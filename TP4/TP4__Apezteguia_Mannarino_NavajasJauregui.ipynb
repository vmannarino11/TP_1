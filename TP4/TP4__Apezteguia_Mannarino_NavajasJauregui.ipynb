{
 "cells": [
  {
   "cell_type": "markdown",
   "id": "4bdb52fd",
   "metadata": {},
   "source": [
    "# Trabajo práctico 4\n",
    "\n",
    "## Francisco Apezteguía, Valentín Mannarino, Juan Sebastián Navajas Jáuregui\n"
   ]
  },
  {
   "cell_type": "markdown",
   "id": "25d50e6c",
   "metadata": {},
   "source": [
    "# Parte I Análisis de la base de hogares y cálculo de pobreza"
   ]
  },
  {
   "cell_type": "markdown",
   "id": "3d778493",
   "metadata": {},
   "source": [
    "### Ejercicio 1 \n",
    "\n",
    "Importamos la base de la Encuesta Permanente de Hogares (EPH) del INDEC para al primer trimestre de 2023 y conservamos las observaciones que corresponden a Gran Buenos Aires."
   ]
  },
  {
   "cell_type": "code",
   "execution_count": null,
   "id": "af86ff98",
   "metadata": {},
   "outputs": [],
   "source": [
    "# Importamos los paquetes que utilizaremos y seteamos el directorio con el que vamos a trabajar\n",
    "import pandas as pd\n",
    "import matplotlib.pyplot as plt\n",
    "import os\n",
    "os.chdir(r\"C:\\Users\\Usuario\\OneDrive - Económicas - UBA\\Valentin\\Maestria\\Optativas\\Tercer trimestre\\BIg Data\\Trabajo Práctico\\Tp4\")\n",
    "\n",
    "# Importamos la base de datos a nivel hogar\n",
    "data_eph_h = pd.read_excel(\"usu_hogar_T123.xlsx \")"
   ]
  },
  {
   "cell_type": "code",
   "execution_count": null,
   "id": "fc8ba240",
   "metadata": {},
   "outputs": [],
   "source": [
    "# Trabajamos con las observaciones que son de la región Gran Buenos Aires\n",
    "data_eph_h=data_eph_h[data_eph_h[\"REGION\"]==1]"
   ]
  },
  {
   "cell_type": "markdown",
   "id": "3c014a6c",
   "metadata": {},
   "source": [
    "### Ejercicio 2\n",
    "Importamos la base de datos individual para unirla con la de hogares."
   ]
  },
  {
   "cell_type": "code",
   "execution_count": null,
   "id": "42a235dc",
   "metadata": {},
   "outputs": [],
   "source": [
    "# Importamos la base de datos a nivel individual\n",
    "data_eph_i = pd.read_excel(\"usu_individual_T123.xlsx \")\n",
    "\n",
    "# Trabajamos con las observaciones que son de la región Gran Buenos Aires\n",
    "data_eph_i=data_eph_i[data_eph_i[\"REGION\"]==1]"
   ]
  },
  {
   "cell_type": "code",
   "execution_count": null,
   "id": "1793652a",
   "metadata": {},
   "outputs": [],
   "source": [
    "# En la base Hogar (archivo usu_hogar.txt) todos los hogares que pertenecen a una \n",
    "# misma vivienda poseen el mismo CODUSU. Para identificar los hogares se debe utilizar \n",
    "# CODUSU y NRO_HOGAR.\n",
    "\n",
    "# En la de base de individuos (archivo usu_individual.txt) todos los miembros del hogar tienen el \n",
    "# mismo CODUSU y NRO_HOGAR.\n",
    "\n",
    "# De esta forma, entendemos que debemos hacer el unión en base a CODUSU y NRO_HOGAR.\n",
    "\n",
    "# Realiza el merge, para aquellas variables repetidas se agregará un sufijo y mantendrá ambas variables\n",
    "#data_eph = data_eph_h.merge(data_eph_i, on='CODUSU', how='inner')\n",
    "data_eph = data_eph_h.merge(data_eph_i, on=['CODUSU', 'NRO_HOGAR'], how='inner')\n"
   ]
  },
  {
   "cell_type": "code",
   "execution_count": null,
   "id": "ca94d7a1",
   "metadata": {},
   "outputs": [],
   "source": [
    "# Eliminamos todas las columnas que terminen con _y que son un duplicado\n",
    "data_eph = data_eph.filter(regex='^(?!.*_y$)')"
   ]
  },
  {
   "cell_type": "code",
   "execution_count": null,
   "id": "ce7ade21",
   "metadata": {},
   "outputs": [],
   "source": [
    "# Renombra las columnas que terminan con \"_x\" eliminando la extensión\n",
    "data_eph = data_eph.rename(columns=lambda x: x.rstrip('_x'))"
   ]
  },
  {
   "cell_type": "markdown",
   "id": "74f813cc",
   "metadata": {},
   "source": [
    "### Ejercicio 3\n",
    "\n",
    "Limpiamos la base en base a las funciones que creamos y ciertas variables particulares que necesiten una limpieza manual"
   ]
  },
  {
   "cell_type": "code",
   "execution_count": null,
   "id": "3dc79345",
   "metadata": {},
   "outputs": [],
   "source": [
    "def eliminar_valores(base, variables):\n",
    "    '''\n",
    "    La función elimina aquellas observaciones que tengan un valor menor a cero en las variables especificadas.\n",
    "    Input:\n",
    "        base: DataFrame con los datos.\n",
    "        variables: Lista de nombres de las variables a filtrar.\n",
    "    Output:\n",
    "        DataFrame con las observaciones filtradas.\n",
    "    '''\n",
    "    # Creamos una copia del DataFrame original para hacer la limpieza\n",
    "    df_filtrado = base.copy()\n",
    "\n",
    "    # Iteramos a través de las variables y filtramoslas observaciones\n",
    "    for variable in variables:\n",
    "        df_filtrado = df_filtrado[df_filtrado[variable] >= 0]\n",
    "\n",
    "    return df_filtrado"
   ]
  },
  {
   "cell_type": "code",
   "execution_count": null,
   "id": "8541dbd2",
   "metadata": {},
   "outputs": [],
   "source": [
    "def outliers_ingresos(base, variables):\n",
    "    '''\n",
    "    La función elimina aquellas observaciones que tengan valores de ingresos superiores en 50 veces la media de la población.\n",
    "    Input:\n",
    "        base: DataFrame con los datos.\n",
    "        variables: Lista de nombres de las variables a filtrar.\n",
    "    Output:\n",
    "        DataFrame con las observaciones filtradas.\n",
    "    '''\n",
    "    df_filtrado = base.copy()\n",
    "    for variable in variables:\n",
    "        media = df_filtrado[variable].mean()  \n",
    "        limite_superior = media * 50  # Establecemos el límite superior\n",
    "        df_filtrado = df_filtrado[df_filtrado[variable] <= limite_superior]\n",
    "\n",
    "    return df_filtrado\n"
   ]
  },
  {
   "cell_type": "code",
   "execution_count": null,
   "id": "be8cd7cf",
   "metadata": {},
   "outputs": [],
   "source": [
    "def eliminar_missings(base, umbral):\n",
    "    '''\n",
    "    La función elimina las columnas que tienen más valores faltantes respecto al \"umbral\".\n",
    "    Input:\n",
    "        base: DataFrame con los datos.\n",
    "        umbral: Umbral de valores faltantes permitidos.\n",
    "    Output:\n",
    "        DataFrame con las columnas eliminadas.\n",
    "    '''\n",
    "    df_filtrado = base.copy()\n",
    "    # Pedimos que elimine las columnas que superen el umbral\n",
    "    columnas_a_eliminar = [columna for columna in base.columns if base[columna].isna().sum() > umbral]\n",
    "    df_filtrado = df_filtrado.drop(columnas_a_eliminar, axis=1)\n",
    "   \n",
    "    return df_filtrado"
   ]
  },
  {
   "cell_type": "code",
   "execution_count": null,
   "id": "d17a2660",
   "metadata": {},
   "outputs": [],
   "source": [
    "def eliminar_valores_9(base, variables):\n",
    "    '''\n",
    "    La función elimina aquellas observaciones que tengan un valor mayor o igual a nueve en las variables especificadas.\n",
    "    Input:\n",
    "        base: DataFrame con los datos.\n",
    "        variables: Lista de nombres de las variables a filtrar.\n",
    "    Output:\n",
    "        DataFrame con las observaciones filtradas.\n",
    "    '''\n",
    "    df_filtrado = base.copy()\n",
    "    for variable in variables:\n",
    "        df_filtrado = df_filtrado[df_filtrado[variable] <= 9]\n",
    "\n",
    "    return df_filtrado"
   ]
  },
  {
   "cell_type": "markdown",
   "id": "9cadfe35",
   "metadata": {},
   "source": [
    "Utilizamos la función eliminar_valores para aquellas observaciones que tengan valores menores a 0, en especial las de ingresos. "
   ]
  },
  {
   "cell_type": "code",
   "execution_count": null,
   "id": "7387d49d",
   "metadata": {},
   "outputs": [],
   "source": [
    "variables_filtro = ['ITF','IPCF', 'P21', 'P47T', 'CH06']\n",
    "data_eph = eliminar_valores (data_eph, variables_filtro)"
   ]
  },
  {
   "cell_type": "markdown",
   "id": "55789334",
   "metadata": {},
   "source": [
    "Realizamos un gráfico boxplots para visualizar que las variable de ingresos tienen outliers"
   ]
  },
  {
   "cell_type": "code",
   "execution_count": null,
   "id": "df77e78c",
   "metadata": {},
   "outputs": [],
   "source": [
    "import seaborn as sns\n",
    "import matplotlib.pyplot as plt\n",
    "import matplotlib.ticker as mticker\n",
    "\n",
    "# Creamos el vector con variables de ingreso que vamos a utilizar\n",
    "variables_filtro = ['ITF', 'IPCF', 'P21', 'P47T']\n",
    "\n",
    "# Configuramos el estilo de seaborn para hacer el gráfico más atractivo\n",
    "sns.set(style=\"whitegrid\")\n",
    "\n",
    "# Creamos el boxplot\n",
    "ax = sns.boxplot(data=data_eph[variables_filtro])\n",
    "\n",
    "# Desactivamos la notación científica en el eje y y agregamos un punto como separador de miles\n",
    "ax.yaxis.set_major_formatter(mticker.StrMethodFormatter('{x:,.0f}'))\n",
    "\n",
    "# Cambiamos el nombre de las variables en el gráfico\n",
    "nuevos_nombres = {\n",
    "    'ITF': 'Total Familiar',\n",
    "    'IPCF': 'Per Cápita Familiar',\n",
    "    'P21': 'Ocupación Principal',\n",
    "    'P47T': 'Individual'\n",
    "}\n",
    "\n",
    "ax.set_xticklabels([nuevos_nombres.get(var, var) for var in variables_filtro])\n",
    "\n",
    "# Ajustamos el tamaño de la fuente en el eje x\n",
    "plt.xticks(fontsize=10)\n",
    "\n",
    "# Etiquetas y título\n",
    "plt.xlabel('Variables')\n",
    "plt.ylabel('Valores')\n",
    "plt.title('Boxplots de Variables de Ingresos')\n",
    "plt.show()\n",
    "\n"
   ]
  },
  {
   "cell_type": "markdown",
   "id": "6e7f741b",
   "metadata": {},
   "source": [
    "Utilizamos la función outliers para aquellas osbervaciones que posean valores superior a 50 veces la media. "
   ]
  },
  {
   "cell_type": "code",
   "execution_count": null,
   "id": "43ea4972",
   "metadata": {
    "scrolled": true
   },
   "outputs": [],
   "source": [
    "variables_filtro = ['ITF','IPCF', 'P21', 'P47T']\n",
    "data_eph = outliers_ingresos (data_eph, variables_filtro)"
   ]
  },
  {
   "cell_type": "code",
   "execution_count": null,
   "id": "cbb138ea",
   "metadata": {},
   "outputs": [],
   "source": [
    "# Realizamos el mismo gráfico\n",
    "sns.set(style=\"whitegrid\")\n",
    "ax = sns.boxplot(data=data_eph[variables_filtro])\n",
    "ax.yaxis.set_major_formatter(mticker.StrMethodFormatter('{x:,.0f}'))\n",
    "nuevos_nombres = {\n",
    "    'ITF': 'Total Familiar',\n",
    "    'IPCF': 'Per Cápita Familiar',\n",
    "    'P21': 'Ocupación Principal',\n",
    "    'P47T': 'Individual'\n",
    "}\n",
    "\n",
    "ax.set_xticklabels([nuevos_nombres.get(var, var) for var in variables_filtro])\n",
    "plt.xticks(fontsize=10)\n",
    "plt.xlabel('Variables')\n",
    "plt.ylabel('Valores')\n",
    "plt.title('Boxplots de Variables de Ingresos')\n",
    "plt.show()\n",
    "\n"
   ]
  },
  {
   "cell_type": "markdown",
   "id": "daff0bf2",
   "metadata": {},
   "source": [
    "Decidimos quedarnos con aquellas variables que tengan hasta un máximo de 350 valores faltantes.\n",
    "Tomamos esta decisión teniendo en mente el trade off entre la complejidad que puede tener el modelo (cantidad de variables explicativas)\n",
    "y la problemática que existe al no poder calcular modelos de predicción con valores missing. \n",
    "En caso de incluir estas variables, deberíamos sacrificar una gran cantidad de observaciones."
   ]
  },
  {
   "cell_type": "code",
   "execution_count": null,
   "id": "86bd8683",
   "metadata": {
    "scrolled": true
   },
   "outputs": [],
   "source": [
    "umbral = 350 \n",
    "data_eph = eliminar_missings(data_eph, umbral)"
   ]
  },
  {
   "cell_type": "markdown",
   "id": "9b98eaab",
   "metadata": {},
   "source": [
    "Utilizamos la función eliminar_valores_9 para aquellas variables que tengan un valor mayor a 9 ya que en general este valor indica que las personas no respondieron a la pregunta de la encuesta\n",
    "Departamento en propiedad horizontal no la eliminamos porque implicaría quitar cerca del 10% de las observaciones. "
   ]
  },
  {
   "cell_type": "code",
   "execution_count": null,
   "id": "e0029d06",
   "metadata": {},
   "outputs": [],
   "source": [
    "variables_filtro = ['II7','V1','V2','V3','V4','V5','V6','V12','V13','V14','V17','CH07','CH10','NIVEL_ED']\n",
    "data_eph = eliminar_valores_9 (data_eph, variables_filtro)"
   ]
  },
  {
   "cell_type": "markdown",
   "id": "67a1f6b7",
   "metadata": {},
   "source": [
    "Hacemos limpieza de algunas variables que no cumplen con los criterios establecidos por nuestras funciones. \n",
    "Por ejemplo, CH08 tiene el 9 como no respuesta pero luego tiene valores mayores que tienen asociados respuestas con utilidad. "
   ]
  },
  {
   "cell_type": "code",
   "execution_count": null,
   "id": "9f93749c",
   "metadata": {},
   "outputs": [],
   "source": [
    "data_eph = data_eph[data_eph['CH08'] != 9]\n",
    "data_eph = data_eph[data_eph['IV2'] != 99]\n",
    "data_eph = data_eph[data_eph['II1'] != 99]\n",
    "data_eph = data_eph[data_eph['II9'] > 0]\n",
    "data_eph = data_eph[data_eph['IV11'] != 0]\n",
    "data_eph = data_eph[data_eph['II4_1'] != 0]"
   ]
  },
  {
   "cell_type": "markdown",
   "id": "585f404d",
   "metadata": {},
   "source": [
    "Mostramos las variables que quedaron disponibles, luego de la limpieza."
   ]
  },
  {
   "cell_type": "code",
   "execution_count": null,
   "id": "c727b6b9",
   "metadata": {
    "scrolled": false
   },
   "outputs": [],
   "source": [
    "columnas_resultantes = data_eph.columns.tolist()\n",
    "print(columnas_resultantes)"
   ]
  },
  {
   "cell_type": "code",
   "execution_count": null,
   "id": "f984e7e8",
   "metadata": {
    "scrolled": true
   },
   "outputs": [],
   "source": [
    "# Exportamos a un Excel y generamos una copia con la base limpia\n",
    "#data_eph_limpia = data_eph.copy()\n",
    "#data_eph.to_excel(\"data_eph_limpia.xlsx\", index = False)"
   ]
  },
  {
   "cell_type": "markdown",
   "id": "7dc5165d",
   "metadata": {},
   "source": [
    "A continuación, filtramos nuestra base de datos para seleccionar las variables que serán utilizadas en los siguientes ejercicios. "
   ]
  },
  {
   "cell_type": "code",
   "execution_count": null,
   "id": "a391664e",
   "metadata": {},
   "outputs": [],
   "source": [
    "# Generamos la lista de variables de interés.\n",
    "variables_de_interes = ['CODUSU', 'PONDIH', 'IV2', 'IV3','IV6', 'IV8',\n",
    "                        'IV10', 'IV11', 'IV12_1', 'IV12_2', 'IV12_3', 'II1', 'II7', 'II8', 'II9', 'V1', 'V2', 'V3', 'V4',\n",
    "                        'V5', 'V6', 'V12', 'V13', 'V14', 'V17', 'ITF', 'IX_TOT',\n",
    "                        'IX_MEN10', 'IPCF', 'P47T', 'CH04', 'CH06', 'CH07', \n",
    "                        'CH08', 'CH09','CH10', 'NIVEL_ED', 'ESTADO', 'CAT_INAC']\n"
   ]
  },
  {
   "cell_type": "code",
   "execution_count": null,
   "id": "248765da",
   "metadata": {},
   "outputs": [],
   "source": [
    "# Nos quedamos con las variables de interés\n",
    "data_eph = data_eph[variables_de_interes]"
   ]
  },
  {
   "cell_type": "code",
   "execution_count": null,
   "id": "66c49c05",
   "metadata": {
    "scrolled": true
   },
   "outputs": [],
   "source": [
    "# Obtenemos los tipos de variables en la lista\n",
    "tipos_variables = data_eph[variables_de_interes].dtypes\n",
    "print(tipos_variables)"
   ]
  },
  {
   "cell_type": "code",
   "execution_count": null,
   "id": "8680a969",
   "metadata": {},
   "outputs": [],
   "source": [
    "# Controlamos no tener columnas con missings\n",
    "columns_with_nan = data_eph.columns[data_eph.isna().any()].tolist()\n",
    "print(\"Columns with NaN values:\", columns_with_nan)"
   ]
  },
  {
   "cell_type": "markdown",
   "id": "c7f1d6df",
   "metadata": {},
   "source": [
    "No observamos variables categóricas o strings que debamos modificar ni missings values."
   ]
  },
  {
   "cell_type": "markdown",
   "id": "5e3308c5",
   "metadata": {},
   "source": [
    "### Ejercicio 4\n",
    "Creamos dos variables que suponemos que son relevantes para predecir la pobreza"
   ]
  },
  {
   "cell_type": "markdown",
   "id": "9729ed85",
   "metadata": {},
   "source": [
    "En esta instancia, hemos creado la variable \"pobreza_estructural\", la cual adquiere el valor 1 si cumple con al menos dos de las condiciones seleccionadas. La razón subyacente a esta elección radica en la intuición de que la presencia de más de dos de estas características puede indicar la existencia de pobreza estructural. Dichas características incluyen: nunca asistieron a un establecimiento educativo;  tener menos de dos ambientes en la casa; los pisos son de cemento, ladrillo fijo, aldrillo suelto o tierra; no tienen agua por cañeria dentro de la vivienda; no tiene baño; el baño no tiene inodro con botón/mochila/cadena y arrastre de agua; el desague del baño es a pozo ciego o letrina; la vivienda se ecuentra en basurales/ zona inundable/ villa de emergencia; combustible utilizado para cocinar no es gas de red. "
   ]
  },
  {
   "cell_type": "code",
   "execution_count": null,
   "id": "55ccc61e",
   "metadata": {},
   "outputs": [],
   "source": [
    "# Creamos la variable pobreza_estructural, que comienza tomando valor 0\n",
    "data_eph['pobreza_estructural'] = 0\n",
    "\n",
    "# Creamos las condiciones\n",
    "conditions = [\n",
    "    (data_eph['CH10']==3),\n",
    "    (data_eph['IV2'] <= 2),\n",
    "    (data_eph['IV3'].isin([2, 3])),\n",
    "    (data_eph['IV6'].isin([2, 3])),\n",
    "    (data_eph['IV8'] == 2),\n",
    "    (data_eph['IV10'].isin([2, 3])),\n",
    "    (data_eph['IV11'].isin([3, 4])),\n",
    "    (data_eph['IV12_1'] == 1),\n",
    "    (data_eph['IV12_2'] == 1),\n",
    "    (data_eph['IV12_3'] == 1),\n",
    "    (data_eph['II8'].isin([2, 3]))\n",
    "]\n",
    "\n",
    "# Contamos cuántas condiciones se cumplen por cada fila\n",
    "conditions_met = sum(conditions_met for conditions_met in conditions)\n",
    "\n",
    "# Asignamos valor 1 si al menos 2 condiciones se cumplen\n",
    "data_eph.loc[conditions_met >= 2, 'pobreza_estructural'] = 1\n",
    "\n"
   ]
  },
  {
   "cell_type": "code",
   "execution_count": null,
   "id": "f4f83453",
   "metadata": {},
   "outputs": [],
   "source": [
    "pobreza_estructural_variable = 'pobreza_estructural'\n",
    "\n",
    "# Contamos la cantidad de casos donde la variable es igual a 1\n",
    "cantidad_pobreza_estructural_1 = len(data_eph[data_eph[pobreza_estructural_variable] == 1])\n",
    "print(f'La cantidad de casos de pobreza estructural igual a 1 es: {cantidad_pobreza_estructural_1}')\n"
   ]
  },
  {
   "cell_type": "markdown",
   "id": "cd918acc",
   "metadata": {},
   "source": [
    "Por otro lado, hemos introducido la variable \"estrategia\" con el objetivo de captar la dinámica adoptada en el hogar en función de que vivieron en los últimos 3 meses. Para su creación, nos enfocamos en seleccionar aquellas variables que consideramos como indicadores potenciales de la pobreza para aquellos individuos que están separados, divorciados, viudos o solteros, quienes podrían exhibir una mayor vulnerabilidad. Las variables seleccionadas incluyen: de lo que no ganan en el trabajo, de alguna jubilación o pension, de indeminzación, de seguro de desempleo, de subsidio o ayuda externa, gastos de ahorros o si han tenido que vender alguna pertenencia. "
   ]
  },
  {
   "cell_type": "code",
   "execution_count": null,
   "id": "09aaccaf",
   "metadata": {},
   "outputs": [],
   "source": [
    "# Creamos la variable estrategia, que comience tomando valor 0\n",
    "data_eph['estrategia'] = 0\n",
    "# Aplicamos las condiciones para que tome valor 1, edad entre 5 y 16 años y además que \n",
    "# nunca haya asistido al colegio o que si asistía, ya no lo hace.\n",
    "mask = (data_eph['CH07'].isin([3, 5])) & (\n",
    "    (data_eph['V1']==2) |\n",
    "    (data_eph['V2']==1) |\n",
    "    (data_eph['V3']==1) |\n",
    "    (data_eph['V4']==1) |\n",
    "    (data_eph['V5']==1) |\n",
    "    (data_eph['V6']==1) |\n",
    "    (data_eph['V12']==1) |\n",
    "    (data_eph['V13']==1) |\n",
    "    (data_eph['V17']==1) )\n",
    "\n",
    "data_eph.loc[mask, 'estrategia'] = 1"
   ]
  },
  {
   "cell_type": "code",
   "execution_count": null,
   "id": "056ea9d1",
   "metadata": {},
   "outputs": [],
   "source": [
    "estrategia_variable = 'estrategia'\n",
    "\n",
    "# Contamos la cantidad de casos donde la variable es igual a 1\n",
    "cantidad_estrategia_1 = len(data_eph[data_eph[estrategia_variable] == 1])\n",
    "print(f'La cantidad de casos de pobreza estructural igual a 1 es: {cantidad_estrategia_1}')\n"
   ]
  },
  {
   "cell_type": "markdown",
   "id": "08ed3139",
   "metadata": {},
   "source": [
    "### Ejercicio 5\n",
    "Generamos un gráfico para visualizar la interacción entre dos o más variables."
   ]
  },
  {
   "cell_type": "markdown",
   "id": "659b0b7f",
   "metadata": {},
   "source": [
    "Elegimos realizar una matriz de correlación de las variables que creemos que son relevantes para el hogar y realizaremos otra matriz de correlación centrada en aspectos más individuales. En esta decidimos incorporar: cantidad de ambientes, como són los pisos, si esta ubicada en una villa, combustible utilizado para cocinar, si vivieron en los ultimos tres meses de jubilación, seguro de desempleo, ayuda social, gastos de ahorro, prestamos, venta de pertenencia; cantidad de miembros del hogar, ingreso per cápita familair y pobreza estructural.  "
   ]
  },
  {
   "cell_type": "code",
   "execution_count": null,
   "id": "44d1a5b1",
   "metadata": {
    "scrolled": true
   },
   "outputs": [],
   "source": [
    "import seaborn as sns\n",
    "import matplotlib.pyplot as plt\n",
    "\n",
    "# Buscamos correlaciones entre aspectos relevantes del hogar.\n",
    "variables_hogar = ['IV2','IV3','IV12_3', 'II8', 'V2','V4','V5','V13', 'V14', 'V17', 'IX_TOT', 'IPCF', 'pobreza_estructural']\n",
    "data_eph_hogar = data_eph[variables_hogar]\n",
    "\n",
    "# Crear la matriz de correlación\n",
    "colormap = plt.cm.viridis\n",
    "plt.figure(figsize=(12, 12))\n",
    "plt.title('Matriz de correlación hogar', y=1.05, size=15)\n",
    "\n",
    "# Ajustar el tamaño de la fuente de los números en los cuadraditos\n",
    "heatmap = sns.heatmap(data_eph_hogar.astype(float).corr(),\n",
    "                      linewidths=0.1,\n",
    "                      vmax=1.0,\n",
    "                      square=True,\n",
    "                      cmap=colormap,\n",
    "                      linecolor='white',\n",
    "                      annot=True,\n",
    "                      annot_kws={\"size\": 8})  # Ajustar el tamaño de la fuente\n",
    "\n",
    "# Cambiar las etiquetas de los ejes x e y\n",
    "nuevos_nombres = {\n",
    "    'IV2': 'Ambientes',\n",
    "    'IV3': 'Pisos',\n",
    "    'IV12_3': 'Villa Emergencias',\n",
    "    'II8': 'Combustible cocina',\n",
    "    'V2': 'Jubilaciones',\n",
    "    'V4': 'Seguro Desempleo',\n",
    "    'V5': 'Ayuda Social',\n",
    "    'V13': 'Desahorro',\n",
    "    'V14': 'Préstamos',\n",
    "    'V17': 'V. Pertenencias',\n",
    "    'IX_TOT': 'Cantidad de miembros',\n",
    "    'IPCF': 'Ingreso pcf',\n",
    "    'pobreza_estructural': 'Pobreza Estructural'\n",
    "}\n",
    "\n",
    "plt.xticks(range(len(variables_hogar)), [nuevos_nombres.get(var, var) for var in variables_hogar], rotation=45, ha=\"right\")\n",
    "plt.yticks(range(len(variables_hogar)), [nuevos_nombres.get(var, var) for var in variables_hogar])\n",
    "\n",
    "# Guardar el gráfico en formato JPG\n",
    "plt.savefig('matriz_correlacion_hogar.jpg', dpi=300, bbox_inches='tight')\n",
    "plt.show()\n",
    "\n"
   ]
  },
  {
   "cell_type": "markdown",
   "id": "eaf28053",
   "metadata": {},
   "source": [
    "Luego creamos una matriz de correlación centrada en aspectos individuales. En ellos incluímos: ingreso per cápita familiar, sexo, edad, estado civil, cobertura médica, si sabe leer o escribir, asistencia a establecimiento educativo, nivel educativo, condición de actividad, categoria de inactividad, estrategia. "
   ]
  },
  {
   "cell_type": "code",
   "execution_count": null,
   "id": "780548c2",
   "metadata": {
    "scrolled": true
   },
   "outputs": [],
   "source": [
    "import seaborn as sns\n",
    "import matplotlib.pyplot as plt\n",
    "\n",
    "# Variables individuales con nombres\n",
    "variables_individuales = ['IPCF', 'CH04', 'CH06', 'CH07', 'CH08', 'CH09', 'CH10', 'NIVEL_ED', 'ESTADO', 'CAT_INAC', 'estrategia']\n",
    "data_eph_indiv = data_eph[variables_individuales]\n",
    "\n",
    "# Crear la matriz de correlación\n",
    "colormap = plt.cm.viridis\n",
    "plt.figure(figsize=(12, 12))\n",
    "plt.title('Matriz de correlación individuo', y=1.05, size=15)\n",
    "\n",
    "# Ajustar el tamaño de la fuente de los números en los cuadraditos\n",
    "heatmap = sns.heatmap(data_eph_indiv.astype(float).corr(),\n",
    "                      linewidths=0.1,\n",
    "                      vmax=1.0,\n",
    "                      square=True,\n",
    "                      cmap=colormap,\n",
    "                      linecolor='white',\n",
    "                      annot=True,\n",
    "                      annot_kws={\"size\": 8})  # Ajustar el tamaño de la fuente\n",
    "\n",
    "# Cambiar las etiquetas de los ejes x e y\n",
    "nuevos_nombres = {\n",
    "    'IPCF': 'Ingreso pcf',\n",
    "    'CH04': 'Sexo',\n",
    "    'CH06': 'Edad',\n",
    "    'CH07': 'Estado Civil',\n",
    "    'CH08': 'Cobertura Médica',\n",
    "    'CH09': 'Alfabetización',\n",
    "    'CH10': 'Escolarización',\n",
    "    'NIVEL_ED': 'Nivel Educativo',\n",
    "    'ESTADO': 'Condición de Actividad',\n",
    "    'CAT_INAC': 'Condición Desocupado',\n",
    "    'estrategia': 'Estrategia'\n",
    "}\n",
    "\n",
    "plt.xticks(range(len(variables_individuales)), [nuevos_nombres.get(var, var) for var in variables_individuales], rotation=45, ha=\"right\")\n",
    "\n",
    "# Ajustar las posiciones de las etiquetas del eje x\n",
    "plt.setp(heatmap.get_xticklabels(), rotation=45, ha=\"right\", rotation_mode=\"anchor\")\n",
    "\n",
    "plt.yticks(range(len(variables_individuales)), [nuevos_nombres.get(var, var) for var in variables_individuales])\n",
    "\n",
    "# Guardar el gráfico en formato JPG\n",
    "plt.savefig('matriz_correlacion_individuo.jpg', dpi=300, bbox_inches='tight')\n",
    "\n",
    "plt.show()\n"
   ]
  },
  {
   "cell_type": "markdown",
   "id": "46460c33",
   "metadata": {},
   "source": [
    "### Ejercicio 6\n",
    "Agregamos a nuestra base los valores de adultos equivalente y cosntruimos la variable pobre"
   ]
  },
  {
   "cell_type": "code",
   "execution_count": null,
   "id": "91870ead",
   "metadata": {},
   "outputs": [],
   "source": [
    "# Nota: modificamos la tabla para que a cada edad desde 0 hasta 99 años se corresponda, según su sexo, con la proporción del adulto equivalente\n",
    "# Importamos la base de datos con la que trabajaremos la cual se adjunta en GitHub. \n",
    "data_equiv = pd.read_excel(\"tabla_adulto_equiv.xlsx\")"
   ]
  },
  {
   "cell_type": "code",
   "execution_count": null,
   "id": "bf1124fe",
   "metadata": {},
   "outputs": [],
   "source": [
    "# Definimos una función lógica para que dentro de data_eph en caso que la persona sea un hombre (CH04=1) se asigne el valor \n",
    "# de la variable Varones dentro de la base de datos de adulto equivalente, haciendo coincidir la edad en data_eph con la de\n",
    "# la variable Edad dentro de la base de datos de adulto equivalente. Realizamos el mismo procedimiento para las mujeres\n",
    "data_eph['adulto_equiv'] = None\n",
    "def assign_data_equiv(row):\n",
    "    if row['CH04'] == 1:\n",
    "        return data_equiv.loc[data_equiv['Edad'] == row['CH06'], 'Varones'].values[0]\n",
    "    elif row['CH04'] == 2:\n",
    "        return data_equiv.loc[data_equiv['Edad'] == row['CH06'], 'Mujeres'].values[0]\n",
    "    else:\n",
    "        return None\n",
    "\n",
    "# Luego, realizamos este procedimiento para todas las filas de nuestra base de datos\n",
    "data_eph['adulto_equiv'] = data_eph.apply(assign_data_equiv, axis=1)"
   ]
  },
  {
   "cell_type": "code",
   "execution_count": null,
   "id": "9c9210da",
   "metadata": {
    "scrolled": true
   },
   "outputs": [],
   "source": [
    "# Imprimimos un resumen de nuestra variable creada para chequear que no tengamos valores raros o missing values\n",
    "resumen_adulto = data_eph['adulto_equiv'].describe() \n",
    "missing_values_in_adulto_equiv = data_eph['adulto_equiv'].isnull().sum()\n",
    "\n",
    "print(\"Cantidad de valores faltantes en la columna 'adulto_equiv':\", missing_values_in_adulto_equiv)\n",
    "print(resumen_adulto)       "
   ]
  },
  {
   "cell_type": "code",
   "execution_count": null,
   "id": "5f5bd7ca",
   "metadata": {},
   "outputs": [],
   "source": [
    "# Por último, creamos la nueva variable adulto_equiv_hog que le asigna la suma de adultos equivalentes en el hogar a cada observación\n",
    "data_eph['ad_equiv_hogar'] = data_eph.groupby('CODUSU')['adulto_equiv'].transform('sum')"
   ]
  },
  {
   "cell_type": "code",
   "execution_count": null,
   "id": "48e1bf2d",
   "metadata": {},
   "outputs": [],
   "source": [
    "# Contamos la cantidad de veces que la variable Ingreso Total Familiar (ITF) es igual a 0\n",
    "count_IFT0 = (data_eph['ITF'] == 0).sum()\n",
    "\n",
    "print(f\"La cantidad de personas que no respondieron cuál es su ingreso total familiar es igual a {count_IFT0}\")"
   ]
  },
  {
   "cell_type": "code",
   "execution_count": null,
   "id": "5a5ab751",
   "metadata": {},
   "outputs": [],
   "source": [
    "# Creamos un DataFrame llamado \"respondieron\" con las observaciones donde la variable Ingreso total familiar es mayor que 0\n",
    "respondieron = data_eph[data_eph['ITF'] > 0]\n",
    "\n",
    "# Creamos un DataFrame llamado \"no_respondieron\" con las observaciones donde la variable Ingreso total familiar  es igual a 0\n",
    "no_respondieron = data_eph[data_eph['ITF'] == 0]"
   ]
  },
  {
   "cell_type": "code",
   "execution_count": null,
   "id": "45a5238d",
   "metadata": {
    "scrolled": true
   },
   "outputs": [],
   "source": [
    "# Agregamos la variable \"ingreso_necesario\" al DataFrame \"respondieron\" según el criterio específicado en la consigna\n",
    "respondieron['ingreso_necesario'] = respondieron['ad_equiv_hogar'] * 57371.05\n",
    "#respondieron.loc[:, 'ingreso_necesario'] = respondieron['ad_equiv_hogar'] * 57371.05\n"
   ]
  },
  {
   "cell_type": "code",
   "execution_count": null,
   "id": "839aff94",
   "metadata": {
    "scrolled": true
   },
   "outputs": [],
   "source": [
    "# Ahora agregamos la variable pobre, según si cumple la condición de que el ingreso familiar total para cada individuo es menor \n",
    "# al necesario para cubrir la canasta básica total (CBT)\n",
    "respondieron.loc[:,'pobre'] = (respondieron['ITF'] <= respondieron['ingreso_necesario']).astype(int)"
   ]
  },
  {
   "cell_type": "code",
   "execution_count": null,
   "id": "fbd771b4",
   "metadata": {
    "scrolled": true
   },
   "outputs": [],
   "source": [
    "# Finalmente, contamos la cantidad de individuos que pueden ser considerados pobres\n",
    "cantidad_de_pobres = respondieron['pobre'].sum()\n",
    "total_observaciones = len(respondieron)\n",
    "porcentaje_pobres = (cantidad_de_pobres / total_observaciones) * 100\n",
    "print(f\"La cantidad de pobres en la muestra es de {cantidad_de_pobres}\")\n",
    "print(f\"El porcentaje de pobres de la muestra es de {porcentaje_pobres:.2f}%\")"
   ]
  },
  {
   "cell_type": "markdown",
   "id": "69adc115",
   "metadata": {},
   "source": [
    "### Ejercicio 7\n",
    "En este ejercicio utilizaremos el ponderador PONDIH para estimar la cantidad de hogares pobres en el Gran Buenos Aires"
   ]
  },
  {
   "cell_type": "code",
   "execution_count": null,
   "id": "929448a7",
   "metadata": {},
   "outputs": [],
   "source": [
    "# Agrupamos los datos por el código del hogar (CODUSU)\n",
    "data_eph_agrupada = respondieron.groupby('CODUSU').first().reset_index()\n"
   ]
  },
  {
   "cell_type": "markdown",
   "id": "499b591e",
   "metadata": {},
   "source": [
    "Creamos la variable \"ponde_pobre\" que se forma como la multiplicación del estado de ese hogar por la cantidad que pondera (PONDIH), de manera tal, que si sumamos este ponderador nos daría la cantidad de pobres. Para obtener la proporción, lo dividimos por la sumatoria de PONDIH. \n"
   ]
  },
  {
   "cell_type": "code",
   "execution_count": null,
   "id": "64386dfb",
   "metadata": {},
   "outputs": [],
   "source": [
    "data_eph_agrupada['ponde_pobre'] = data_eph_agrupada['PONDIH'] * data_eph_agrupada['pobre']\n",
    "cantidad_de_pobres = data_eph_agrupada['ponde_pobre'].sum()\n",
    "total_poblacion = data_eph_agrupada['PONDIH'].sum()\n",
    "porcentaje_pobres = (cantidad_de_pobres / total_poblacion) * 100\n",
    "cantidad_de_pobres_formateada = '{:,}'.format(cantidad_de_pobres).replace(',', '.')\n",
    "print(f\"La cantidad de pobres en la muestra es de {cantidad_de_pobres_formateada}\")\n",
    "print(f\"El porcentaje de pobres de la muestra es de {porcentaje_pobres:.2f}%\")"
   ]
  },
  {
   "cell_type": "markdown",
   "id": "d4bc01f8",
   "metadata": {},
   "source": [
    "En este caso, el informe del INDEC indica que los hogares en situación de pobreza para Buenos Aires y el Gran Buenos Aires es igual al 30,3. Este valor es similar al calculado por nosotros. "
   ]
  },
  {
   "cell_type": "markdown",
   "id": "ca92bc96",
   "metadata": {},
   "source": [
    "Guardamos para trabjar después una copia de la base repsondieron y no repsondieron."
   ]
  },
  {
   "cell_type": "code",
   "execution_count": null,
   "id": "84d19398",
   "metadata": {},
   "outputs": [],
   "source": [
    "respondieron_copia = respondieron.copy()\n",
    "no_respondieron_copia = no_respondieron.copy()"
   ]
  }
 ],
 "metadata": {
  "celltoolbar": "Raw Cell Format",
  "kernelspec": {
   "display_name": "Python 3 (ipykernel)",
   "language": "python",
   "name": "python3"
  },
  "language_info": {
   "codemirror_mode": {
    "name": "ipython",
    "version": 3
   },
   "file_extension": ".py",
   "mimetype": "text/x-python",
   "name": "python",
   "nbconvert_exporter": "python",
   "pygments_lexer": "ipython3",
   "version": "3.11.4"
  }
 },
 "nbformat": 4,
 "nbformat_minor": 5
}
