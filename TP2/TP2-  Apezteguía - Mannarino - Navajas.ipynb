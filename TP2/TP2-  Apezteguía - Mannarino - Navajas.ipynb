{
 "cells": [
  {
   "cell_type": "markdown",
   "id": "4bdb52fd",
   "metadata": {},
   "source": [
    "# Trabajo práctico 2 \n",
    "\n",
    "## Francisco Apezteguía, Valentín Mannarino, Juan Sebastián Navajas Jáuregui\n"
   ]
  },
  {
   "cell_type": "markdown",
   "id": "de0cc73c",
   "metadata": {},
   "source": [
    "# Parte I Analizando la base"
   ]
  },
  {
   "cell_type": "markdown",
   "id": "e55641f0",
   "metadata": {},
   "source": [
    "Acá resumimos las posibles variables de interés para nuestro análisis:\n",
    "\n",
    "\n",
    "**CODUSU** C (29) Código para distinguir viviendas, permite aparearlas con Hogares y Personas. Además permite hacer el seguimiento a través de los trimestres\n",
    "\n",
    "**NRO_HOGAR** N (1) Código para distinguir Hogares, permite aparearlos con Personas.\n",
    "\n",
    "**P47T** N (10) Monto de ingreso total individual (sumatoria ingresos laborales y no laborales)\n",
    "\n",
    "**ITF** N (12,2) Monto del ingreso total familiar\n",
    "\n",
    "**IPCF** N (12) Monto de ingreso per cápita familiar \n",
    "\n",
    "**CH04** N (1) Sexo 1 = Varón, 2 = Mujer\n",
    "\n",
    "**CH06** N (2) ¿Cuántos años cumplidos tiene?\n",
    "\n",
    "**CH07** N (1) ¿Actualmente está... 1 = ... unido? 2 = ... casado? 3 = ... separado/a o divorciado/a? 4 = ... viudo/a? 5 = ... soltero/a?\n",
    "\n",
    "**CH08** N (3) ¿Tiene algún tipo de cobertura médica por la que paga o le descuentan? 1 = Obra social (incluye PAMI) 2 = Mutual / prepaga / servicio de emergencia 3 = Planes y seguros públicos 4 = No paga ni le descuentan 9 = Ns/Nr 12 = Obra social y mutual / prepaga / servicio de emergencia 13 = Obra social y planes y seguros públicos 23 = Mutual / prepaga / servicio de emergencia / Planes y seguros  públicos 123 = Obra social, mutual / prepaga / servicio de emergencia y planes y  seguros públicos\n",
    "\n",
    "**NIVEL_ED** N (1) Nivel educativo 1 = Primario incompleto (incluye educación especial) 2 = Primario completo\n",
    "3 = Secundario incompleto 4 = Secundario completo 5 = Superior universitario incompleto 6 = Superior universitario completo\n",
    "7 = Sin instrucción 9 = Ns/Nr\n",
    "\n",
    "**ESTADO** N (1) Condición de actividad 0 = Entrevista individual no realizada  (no respuesta al cuestionario \n",
    " individual) 1 = Ocupado 2 = Desocupado 3 = Inactivo 4 = Menor de 10 años\n",
    "\n",
    "**CAT_INAC** N (1) Categoría de inactividad 1 = Jubilado / Pensionado 2 = Rentista 3 = Estudiante 4 = Ama de casa 5 = Menor de 6 años 6 = Discapacitado 7 = Otros"
   ]
  },
  {
   "cell_type": "code",
   "execution_count": 1,
   "id": "624213df",
   "metadata": {},
   "outputs": [],
   "source": [
    "# Importamos los paquetes que utilizaremos y seteamos el directorio con el que vamos a trabajar\n",
    "import pandas as pd\n",
    "import matplotlib.pyplot as plt\n",
    "import os\n",
    "os.chdir(r\"C:\\Users\\Usuario\\OneDrive - Económicas - UBA\\Valentin\\Maestria\\Optativas\\Tercer trimestre\\BIg Data\\Trabajo Práctico\\Tp2\")\n",
    "\n",
    "# Importamos la base de datos con la que trabajaremos\n",
    "data_eph = pd.read_excel(\"usu_individual_T123.xlsx \")\n"
   ]
  },
  {
   "cell_type": "markdown",
   "id": "afa107a6",
   "metadata": {},
   "source": [
    "### Ejercicio 2 - A)"
   ]
  },
  {
   "cell_type": "code",
   "execution_count": 2,
   "id": "4290a629",
   "metadata": {},
   "outputs": [],
   "source": [
    "# Trabajamos con las observaciones que son de la región Gran Buenos Aires\n",
    "data_eph=data_eph[data_eph[\"REGION\"]==1]"
   ]
  },
  {
   "cell_type": "code",
   "execution_count": null,
   "id": "0dcc4214",
   "metadata": {},
   "outputs": [],
   "source": [
    "# Observamos la data\n",
    "#print(data_eph)"
   ]
  },
  {
   "cell_type": "code",
   "execution_count": null,
   "id": "da830ed5",
   "metadata": {},
   "outputs": [],
   "source": [
    "# Resumimos las variables que son de interés para nuestro análisis. \n",
    "# En este caso es el ingreso individual.\n",
    "pd.options.display.float_format = '{:.2f}'.format #En este paso seteamos la visualización de los datos.\n",
    "resumen_P47T = data_eph['P47T'].describe() #-9 significa que no respondió la encuesta \n",
    "#print(resumen_P47T)"
   ]
  },
  {
   "cell_type": "code",
   "execution_count": null,
   "id": "2dfad001",
   "metadata": {},
   "outputs": [],
   "source": [
    "# En este caso es el ingreso total familiar.\n",
    "resumen_ITF = data_eph['ITF'].describe()  \n",
    "#print(resumen_ITF)"
   ]
  },
  {
   "cell_type": "code",
   "execution_count": null,
   "id": "3ffb17b6",
   "metadata": {},
   "outputs": [],
   "source": [
    "# En este caso es el monto de ingreso per cápita familiar.\n",
    "resumen_IPCF = data_eph['IPCF'].describe() \n",
    "#print(resumen_IPCF)"
   ]
  },
  {
   "cell_type": "code",
   "execution_count": null,
   "id": "760ed9c3",
   "metadata": {},
   "outputs": [],
   "source": [
    "# En este caso es el género de la persona.\n",
    "resumen_CH04 = data_eph['CH04'].describe() \n",
    "#print(resumen_CH04)"
   ]
  },
  {
   "cell_type": "code",
   "execution_count": null,
   "id": "e7f3f34d",
   "metadata": {},
   "outputs": [],
   "source": [
    "# En este caso es la edad de la persona.\n",
    "# Nota: en este caso las observaciones con 99 se corresponden a personas que realmente tienen 99 años y no a respuestas de ns/nr.\n",
    "resumen_CH06 = data_eph['CH06'].describe() \n",
    "#print(resumen_CH06)"
   ]
  },
  {
   "cell_type": "code",
   "execution_count": null,
   "id": "d447249c",
   "metadata": {},
   "outputs": [],
   "source": [
    "# En este caso es el estado civil de la persona.\n",
    "# 9 en este caso indica que la persona dio una respuesta del tipo ns/nr\n",
    "resumen_CH07 = data_eph['CH07'].describe() \n",
    "#print(resumen_CH07)"
   ]
  },
  {
   "cell_type": "code",
   "execution_count": null,
   "id": "a5fbfb90",
   "metadata": {},
   "outputs": [],
   "source": [
    "# En este caso es la cobertura médica de la persona.\n",
    "resumen_CH08 = data_eph['CH08'].describe() \n",
    "#print(resumen_CH08)"
   ]
  },
  {
   "cell_type": "code",
   "execution_count": null,
   "id": "2a0a3e32",
   "metadata": {},
   "outputs": [],
   "source": [
    "# En este caso es el nivel educativo alcanzado por la persona.\n",
    "resumen_NIVEL_ED = data_eph['NIVEL_ED'].describe() \n",
    "#print(resumen_NIVEL_ED)"
   ]
  },
  {
   "cell_type": "code",
   "execution_count": null,
   "id": "b8b33963",
   "metadata": {},
   "outputs": [],
   "source": [
    "# En este caso es la condición de actividad de la persona.\n",
    "resumen_ESTADO = data_eph['ESTADO'].describe() \n",
    "#print(resumen_ESTADO)"
   ]
  },
  {
   "cell_type": "code",
   "execution_count": null,
   "id": "08cb891b",
   "metadata": {},
   "outputs": [],
   "source": [
    "# En este caso es el porqué de la inactividad de la persona.\n",
    "resumen_CAT_INAC = data_eph['CAT_INAC'].describe() \n",
    "#print(resumen_CAT_INAC)"
   ]
  },
  {
   "cell_type": "markdown",
   "id": "d818117d",
   "metadata": {},
   "source": [
    "### Ejercicio 2 - B)\n",
    "\n",
    "En este caso, observamos en nuestro resumen que las variables de edad y de ingreso tienen valores por debajo de 0. "
   ]
  },
  {
   "cell_type": "code",
   "execution_count": 3,
   "id": "7e6fe1ce",
   "metadata": {},
   "outputs": [],
   "source": [
    "# Eliminamos todas las observaciones que tienen edad menor a 0\n",
    "data_eph=data_eph[data_eph[\"CH06\"]>=0]\n",
    "resumen_CH06 = data_eph['CH06'].describe() \n",
    "#print(resumen_CH06)"
   ]
  },
  {
   "cell_type": "code",
   "execution_count": 4,
   "id": "e06648b0",
   "metadata": {},
   "outputs": [],
   "source": [
    "# Eliminamos todas las observaciones que tienen un ingreso individual menor a 0\n",
    "data_eph=data_eph[data_eph[\"P47T\"]>=0]\n",
    "resumen_P47T = data_eph['P47T'].describe() \n",
    "#print(resumen_P47T)                    "
   ]
  },
  {
   "cell_type": "code",
   "execution_count": 5,
   "id": "1b6ac7ce",
   "metadata": {},
   "outputs": [],
   "source": [
    "# Eliminamos todas las observaciones que tienen una respuesta ns/nr en el estado civil.\n",
    "data_eph=data_eph[data_eph['CH07']<9]\n",
    "resumen_P47T = data_eph['CH07'].describe() \n",
    "#print(resumen_P47T)                    "
   ]
  },
  {
   "cell_type": "code",
   "execution_count": 6,
   "id": "b2a37cea",
   "metadata": {},
   "outputs": [],
   "source": [
    "# Eliminamos todas las observaciones que tienen una respuesta ns/nr en cobertura médica.\n",
    "data_eph = data_eph[data_eph['CH08'] != 9]\n",
    "resumen_P47T = data_eph['CH08'].describe() \n",
    "#print(resumen_P47T) "
   ]
  },
  {
   "cell_type": "markdown",
   "id": "fb0e708c",
   "metadata": {},
   "source": [
    "### Ejercicio 2 - C)\n",
    "\n",
    "Realizamos gráfico de barras mostrando la composición por sexo."
   ]
  },
  {
   "cell_type": "code",
   "execution_count": 7,
   "id": "73a20642",
   "metadata": {},
   "outputs": [
    {
     "name": "stderr",
     "output_type": "stream",
     "text": [
      "C:\\Users\\Usuario\\AppData\\Local\\Temp\\ipykernel_13628\\3994845049.py:23: UserWarning: FixedFormatter should only be used together with FixedLocator\n",
      "  ax.set_xticklabels(etiquetas, fontdict=etiquetas_formato)\n"
     ]
    },
    {
     "data": {
      "image/png": "[encoded data removed]",
      "text/plain": [
       "<Figure size 640x480 with 1 Axes>"
      ]
     },
     "metadata": {},
     "output_type": "display_data"
    }
   ],
   "source": [
    "import matplotlib.ticker as mtick \n",
    "\n",
    "# Contamos la cantidad de veces que aparece cada valor en nuestra variable de sexo\n",
    "conteo_valores = data_eph['CH04'].value_counts()\n",
    "\n",
    "# Ordenamos el índice para asegurarnos de que los valores se muestren en el orden correcto\n",
    "conteo_valores = conteo_valores.sort_index()\n",
    "\n",
    "# Creamos el gráfico de barras\n",
    "fig, ax = plt.subplots()\n",
    "colores = ['#FA8072', '#F5F5DC']  # Colores para las barras\n",
    "\n",
    "# Creamos las barras con etiquetas personalizadas\n",
    "etiquetas = ['Hombres', 'Mujeres']\n",
    "ancho_barra = 0.4  # Configuramos el ancho de la barra\n",
    "barras = ax.bar(etiquetas, conteo_valores.values, color=colores, width=ancho_barra)\n",
    "\n",
    "# Agregamos y configuramos las etiquetas y el título del gráfico\n",
    "plt.xlabel('Sexo', fontweight='bold', fontsize=14, fontname='Times New Roman')\n",
    "plt.ylabel('Cantidad', fontweight='bold', fontsize=14, fontname='Times New Roman')\n",
    "plt.title('Composición por sexo', fontweight='bold', fontsize=18, fontname='Times New Roman')\n",
    "etiquetas_formato = {'fontsize': 14, 'fontname': 'Times New Roman'}\n",
    "ax.set_xticklabels(etiquetas, fontdict=etiquetas_formato)\n",
    "\n",
    "# Editamos para que solo se vean los ejes que nos interesan\n",
    "ax.spines['top'].set_visible(False)\n",
    "ax.spines['right'].set_visible(False)\n",
    "ax.spines['bottom'].set_visible(True)\n",
    "ax.spines['left'].set_visible(True)\n",
    "\n",
    "# Agregamos a las etiquetas de cada tick un separador de miles\n",
    "ax.yaxis.set_major_formatter(mtick.FuncFormatter(lambda x, _: '{:,.0f}'.format(x).replace(',', '.')))\n",
    "\n",
    "# Agregamos la cantidad arriba de cada barra\n",
    "for barra, cantidad in zip(barras, conteo_valores.values):\n",
    "    ax.text(barra.get_x() + barra.get_width() / 2, barra.get_height(), str(cantidad), ha='center', va='bottom', fontsize=12, fontname='Times New Roman', color='black')\n",
    "\n",
    "# Guardamos el gráfico en formato JPG\n",
    "plt.savefig('composicion_sexo.jpg', dpi=300, bbox_inches='tight')\n",
    "\n",
    "# Mostramos el gráfico\n",
    "plt.show()\n",
    "\n",
    "\n"
   ]
  },
  {
   "cell_type": "code",
   "execution_count": 8,
   "id": "310afd92",
   "metadata": {},
   "outputs": [
    {
     "name": "stderr",
     "output_type": "stream",
     "text": [
      "C:\\Users\\Usuario\\AppData\\Local\\Temp\\ipykernel_13628\\2727673379.py:19: UserWarning: FixedFormatter should only be used together with FixedLocator\n",
      "  ax.set_xticklabels(etiquetas, fontdict=etiquetas_formato)\n"
     ]
    },
    {
     "data": {
      "image/png": "[encoded data removed]",
      "text/plain": [
       "<Figure size 640x480 with 1 Axes>"
      ]
     },
     "metadata": {},
     "output_type": "display_data"
    }
   ],
   "source": [
    "# Creamos el mismo gráfico pero en proporción \n",
    "# Calculamos la proporción de cada categoría\n",
    "proporciones = conteo_valores / conteo_valores.sum()\n",
    "\n",
    "# Creamos el gráfico de barras\n",
    "fig, ax = plt.subplots()\n",
    "colores = ['#FA8072', '#F5F5DC']  # Colores para las barras\n",
    "\n",
    "# Creamos las barras con etiquetas personalizadas\n",
    "etiquetas = ['Hombres', 'Mujeres']\n",
    "ancho_barra = 0.3  # Ancho de la barra\n",
    "barras = ax.bar(etiquetas, proporciones, color=colores, width=ancho_barra)\n",
    "\n",
    "# Configuramos las etiquetas y el título del gráfico\n",
    "plt.xlabel('Sexo', fontweight='bold', fontsize=14, fontname='Times New Roman')\n",
    "plt.ylabel('Proporción', fontweight='bold', fontsize=14, fontname='Times New Roman')\n",
    "plt.title('Composición por sexo', fontweight='bold', fontsize=18, fontname='Times New Roman')\n",
    "etiquetas_formato = {'fontsize': 14, 'fontname': 'Times New Roman'}\n",
    "ax.set_xticklabels(etiquetas, fontdict=etiquetas_formato)\n",
    "\n",
    "# Configuramos los ejes\n",
    "ax.spines['top'].set_visible(False)\n",
    "ax.spines['right'].set_visible(False)\n",
    "ax.spines['bottom'].set_visible(True)\n",
    "ax.spines['left'].set_visible(True)\n",
    "\n",
    "# Agregamos formato a las etiquetas del eje y para mostrar la proporción como porcentaje\n",
    "ax.yaxis.set_major_formatter(mtick.PercentFormatter(xmax=1.0, decimals=0))\n",
    "\n",
    "# Agregamos el porcentaje dentro de cada barra\n",
    "for barra, proporcion in zip(barras, proporciones):\n",
    "    ax.text(barra.get_x() + barra.get_width() / 2, proporcion, f'{proporcion:.0%}', ha='center', va='bottom', fontsize=12, fontname='Times New Roman', color='black')    \n",
    "    \n",
    "# Guardamos el gráfico en formato JPG\n",
    "plt.savefig('composicion_sexo_proporcion_con_etiquetas.jpg', dpi=300, bbox_inches='tight')\n",
    "\n",
    "# Mostramos el gráfico\n",
    "plt.show()"
   ]
  },
  {
   "cell_type": "markdown",
   "id": "219b79bc",
   "metadata": {},
   "source": [
    "### Ejercicio 2 - D)\n",
    "\n",
    "Realizamos la matriz de correlación con las variables sexo, estado civil, cobertura médica, nivel educativo, condición de actividad, categoría de inactividad y monto del ingreso per cápita familiar"
   ]
  },
  {
   "cell_type": "code",
   "execution_count": 9,
   "id": "7f4c1964",
   "metadata": {},
   "outputs": [
    {
     "data": {
      "image/png": "[encoded data removed]",
      "text/plain": [
       "<Figure size 1000x800 with 2 Axes>"
      ]
     },
     "metadata": {},
     "output_type": "display_data"
    }
   ],
   "source": [
    "import seaborn as sns\n",
    "\n",
    "# Seleccionamos las variables que usaremos en la matriz de correlación\n",
    "variables = ['CH04', 'CH07', 'CH08', 'NIVEL_ED', 'ESTADO', 'CAT_INAC', 'IPCF']\n",
    "data_seleccionado = data_eph[variables]\n",
    "\n",
    "# Calculamos las correlaciones \n",
    "corr = data_seleccionado.corr()\n",
    "\n",
    "# Convertimos la matriz de correlación en una tabla LaTeX y la exportamos\n",
    "corr_latex = corr.style.to_latex()\n",
    "with open('matriz_correlacion.tex', 'w') as f:\n",
    "    f.write(corr_latex)\n",
    "\n",
    "# Creamos un mapa de calor de las correlaciones\n",
    "plt.figure(figsize=(10, 8))\n",
    "ax = sns.heatmap(\n",
    "    corr, \n",
    "    vmin=-1, vmax=1, center=0,\n",
    "    cmap=sns.diverging_palette(10,1700, n=200),\n",
    "    square=True)\n",
    "\n",
    "# Creamos etiquetas personalizadas para filas y columnas\n",
    "etiquetas_personalizadas = ['Sexo', 'Estado Civil', 'Cobertura Médica', 'Nivel de Educación', 'Ocupado/Desocupado', 'Categoría de Inactividad', 'Ingreso PC familiar']\n",
    "ax.set_xticklabels(etiquetas_personalizadas, rotation=45, horizontalalignment='right', fontsize=10, fontname='Georgia')\n",
    "ax.set_yticklabels(etiquetas_personalizadas, rotation=0, horizontalalignment='right', fontsize=10, fontname='Georgia')\n",
    "\n",
    "# Guardamos el gráfico en formato JPG\n",
    "plt.savefig('matriz_cor.jpg', dpi=300, bbox_inches='tight')\n",
    "\n",
    "# Guardamos el gráfico en formato JPG\n",
    "plt.savefig('composicion_genero.jpg', dpi=300, bbox_inches='tight')\n",
    "\n",
    "\n",
    "# Mostrar el mapa de calor\n",
    "plt.show()"
   ]
  },
  {
   "cell_type": "markdown",
   "id": "25dd73e4",
   "metadata": {},
   "source": [
    "### Ejercicio 2 - E)\n",
    "\n",
    "Ahora analizaremos la cantidad de desocupados, inactivos y la media de ingreso per cápita familiar según estado"
   ]
  },
  {
   "cell_type": "code",
   "execution_count": 10,
   "id": "fcdf177a",
   "metadata": {},
   "outputs": [
    {
     "name": "stdout",
     "output_type": "stream",
     "text": [
      "La cantidad de desocupados/as es igual a 264\n"
     ]
    }
   ],
   "source": [
    "# Como la desocupación se codifica con el número 2, contamos la cantidad de veces que aparece este valor en la variable ESTADO\n",
    "cantidad_desocupados = (data_eph['ESTADO'] == 2).sum()\n",
    "print(f\"La cantidad de desocupados/as es igual a {cantidad_desocupados}\")"
   ]
  },
  {
   "cell_type": "code",
   "execution_count": 15,
   "id": "a1c511ce",
   "metadata": {},
   "outputs": [
    {
     "name": "stdout",
     "output_type": "stream",
     "text": [
      "La cantidad de inactivos/as es igual a 2529\n"
     ]
    }
   ],
   "source": [
    "# Como la inactividad se codifica con el número 3, contamos la cantidad de veces que aparece este valor en la variable ESTADO\n",
    "cantidad_inactivos = (data_eph['ESTADO'] == 3).sum()\n",
    "print(f\"La cantidad de inactivos/as es igual a {cantidad_inactivos}\")"
   ]
  },
  {
   "cell_type": "code",
   "execution_count": 12,
   "id": "5381039d",
   "metadata": {},
   "outputs": [
    {
     "name": "stdout",
     "output_type": "stream",
     "text": [
      "La media del ingreso per cápita familiar para los ocupados es: $93268\n"
     ]
    }
   ],
   "source": [
    "# Calculamos la media del ingreso familiar per cápita para aquellos que están ocupados\n",
    "media_ipfc_ocup = data_eph.loc[data_eph['ESTADO'] == 1, 'IPCF'].mean()\n",
    "print(f\"La media del ingreso per cápita familiar para los ocupados es: ${int(media_ipfc_ocup)}\")\n"
   ]
  },
  {
   "cell_type": "code",
   "execution_count": 13,
   "id": "61ae03be",
   "metadata": {},
   "outputs": [
    {
     "name": "stdout",
     "output_type": "stream",
     "text": [
      "La media del ingreso per cápita familiar para los desocupados es: $27664\n"
     ]
    }
   ],
   "source": [
    "# Calculamos la media del ingreso familiar per cápita para aquellos que están desocupados\n",
    "media_ipfc_desocup = data_eph.loc[data_eph['ESTADO'] == 2, 'IPCF'].mean()\n",
    "print(f\"La media del ingreso per cápita familiar para los desocupados es: ${int(media_ipfc_desocup)}\")"
   ]
  },
  {
   "cell_type": "code",
   "execution_count": 14,
   "id": "5bd7d1d0",
   "metadata": {},
   "outputs": [
    {
     "name": "stdout",
     "output_type": "stream",
     "text": [
      "La media del ingreso per cápita familiar para los inactivos es: $44797\n"
     ]
    }
   ],
   "source": [
    "# Calculamos la media del ingreso familiar per cápita para aquellos que están inactivos\n",
    "media_ipfc_inac = data_eph.loc[data_eph['ESTADO'] == 3, 'IPCF'].mean()\n",
    "print(f\"La media del ingreso per cápita familiar para los inactivos es: ${int(media_ipfc_inac)}\")"
   ]
  },
  {
   "cell_type": "markdown",
   "id": "b9a91df4",
   "metadata": {},
   "source": [
    "### Ejercicio 2 - F)\n",
    "\n",
    "Agregamos a nuestra base los valores de adultos equivalente"
   ]
  },
  {
   "cell_type": "code",
   "execution_count": 16,
   "id": "e3aa107e",
   "metadata": {},
   "outputs": [],
   "source": [
    "# Nota: modificamos la tabla para que a cada edad desde 0 hasta 99 años se corresponda, según su sexo, con la proporción del adulto equivalente\n",
    "# Importamos la base de datos con la que trabajaremos\n",
    "data_equiv = pd.read_excel(\"tabla_adulto_equiv.xlsx\")"
   ]
  },
  {
   "cell_type": "code",
   "execution_count": 17,
   "id": "e7cf8ec7",
   "metadata": {},
   "outputs": [],
   "source": [
    "# Definimos una función lógica para que dentro de data_eph en caso que la persona sea un hombre (CH04=1) se asigne el valor \n",
    "# de la variable Varones dentro de la base de datos de adulto equivalente, haciendo coincidir la edad en data_eph con la de\n",
    "# la variable Edad dentro de la base de datos de adulto equivalente. Realizamos el mismo procedimiento para las mujeres\n",
    "data_eph['adulto_equiv'] = None\n",
    "def assign_data_equiv(row):\n",
    "    if row['CH04'] == 1:\n",
    "        return data_equiv.loc[data_equiv['Edad'] == row['CH06'], 'Varones'].values[0]\n",
    "    elif row['CH04'] == 2:\n",
    "        return data_equiv.loc[data_equiv['Edad'] == row['CH06'], 'Mujeres'].values[0]\n",
    "    else:\n",
    "        return None\n",
    "\n",
    "# Luego, realizamos este procedimiento para todas las filas de nuestra base de datos\n",
    "data_eph['adulto_equiv'] = data_eph.apply(assign_data_equiv, axis=1)"
   ]
  },
  {
   "cell_type": "code",
   "execution_count": 18,
   "id": "04bc2213",
   "metadata": {},
   "outputs": [
    {
     "name": "stdout",
     "output_type": "stream",
     "text": [
      "Cantidad de valores faltantes en la columna 'adulto_equiv': 0\n",
      "count    5942.000000\n",
      "mean        0.799997\n",
      "std         0.152770\n",
      "min         0.370000\n",
      "25%         0.690000\n",
      "50%         0.770000\n",
      "75%         1.000000\n",
      "max         1.040000\n",
      "Name: adulto_equiv, dtype: float64\n"
     ]
    }
   ],
   "source": [
    "# Imprimimos un resumen de nuestra variable creada para chequear que no tengamos valores raros o missing values\n",
    "resumen_adulto = data_eph['adulto_equiv'].describe() \n",
    "missing_values_in_adulto_equiv = data_eph['adulto_equiv'].isnull().sum()\n",
    "\n",
    "print(\"Cantidad de valores faltantes en la columna 'adulto_equiv':\", missing_values_in_adulto_equiv)\n",
    "print(resumen_adulto)       "
   ]
  },
  {
   "cell_type": "code",
   "execution_count": 19,
   "id": "38d00ca0",
   "metadata": {},
   "outputs": [],
   "source": [
    "# Por último, creamos la nueva variable adulto_equiv_hog que le asigna la suma de adultos equivalentes en el hogar a cada observación\n",
    "data_eph['ad_equiv_hogar'] = data_eph.groupby('CODUSU')['adulto_equiv'].transform('sum')"
   ]
  },
  {
   "cell_type": "markdown",
   "id": "05be7b37",
   "metadata": {},
   "source": [
    "### Ejercicio 3\n",
    "Reporte del ingreso total familiar\n",
    "\n",
    "Nota: en nuestro código, ya hemos eliminado algunas observaciones que presentaban un ns/nr en la variable indicativa del ingreso personal (P47T). En general, estas observaciones también tenían también un valor igual a 0 en la variable ingreso total familiar. \n"
   ]
  },
  {
   "cell_type": "code",
   "execution_count": 20,
   "id": "080f2f54",
   "metadata": {},
   "outputs": [
    {
     "name": "stdout",
     "output_type": "stream",
     "text": [
      "La cantidad de personas que no respondieron cuál es su ingreso total familiar es igual a 1769\n"
     ]
    }
   ],
   "source": [
    "# Contamos la cantidad de veces que la variable Ingreso Total Familiar (ITF) es igual a 0\n",
    "count_IFT0 = (data_eph['ITF'] == 0).sum()\n",
    "\n",
    "print(f\"La cantidad de personas que no respondieron cuál es su ingreso total familiar es igual a {count_IFT0}\")"
   ]
  },
  {
   "cell_type": "code",
   "execution_count": 21,
   "id": "b24eaf17",
   "metadata": {},
   "outputs": [],
   "source": [
    "# Creamos un DataFrame llamado \"respondieron\" con las observaciones donde la variable Ingreso total familiar es mayor que 0\n",
    "respondieron = data_eph[data_eph['ITF'] > 0]\n",
    "\n",
    "# Creamos un DataFrame llamado \"no_respondieron\" con las observaciones donde la variable Ingreso total familiar  es igual a 0\n",
    "no_respondieron = data_eph[data_eph['ITF'] == 0]"
   ]
  },
  {
   "cell_type": "markdown",
   "id": "8cf90589",
   "metadata": {},
   "source": [
    "\n",
    "### Ejercicio 4\n",
    "Buscamos el ingreso necesario a nivel familiar para no ser pobre para aquellos grupos de personas que respondieron el ingreso total familiar"
   ]
  },
  {
   "cell_type": "code",
   "execution_count": 23,
   "id": "76ba53a1",
   "metadata": {
    "scrolled": false
   },
   "outputs": [],
   "source": [
    "# Agregamos la variable \"ingreso_necesario\" al DataFrame \"respondieron\" según el criterio específicado en la consigna\n",
    "respondieron.loc[:, 'ingreso_necesario'] = respondieron['ad_equiv_hogar'] * 57371.05\n"
   ]
  },
  {
   "cell_type": "markdown",
   "id": "5b8a653b",
   "metadata": {},
   "source": [
    "### Ejercicio 5\n",
    "Generamos la variable  pobre que tome valor 1 si el Ingreso total Familiar es menor al ingreso necesario que necesita una familia y cero en caso contrario"
   ]
  },
  {
   "cell_type": "code",
   "execution_count": 25,
   "id": "41d22f4a",
   "metadata": {
    "scrolled": true
   },
   "outputs": [],
   "source": [
    "# Ahora agregamos la variable pobre, según si cumple la condición de que el ingreso familiar total para cada individuo es menor \n",
    "# al necesario para cubrir la canasta básica total (CBT)\n",
    "respondieron.loc[:,'pobre'] = (respondieron['ITF'] <= respondieron['ingreso_necesario']).astype(int)"
   ]
  },
  {
   "cell_type": "code",
   "execution_count": 26,
   "id": "71c8879f",
   "metadata": {},
   "outputs": [
    {
     "name": "stdout",
     "output_type": "stream",
     "text": [
      "La cantidad de pobres en la muestra es de 1566\n",
      "El porcentaje de pobres de la muestra es de 37.53%\n"
     ]
    }
   ],
   "source": [
    "# Finalmente, contamos la cantidad de individuos que pueden ser considerados pobres\n",
    "cantidad_de_pobres = respondieron['pobre'].sum()\n",
    "total_observaciones = len(respondieron)\n",
    "porcentaje_pobres = (cantidad_de_pobres / total_observaciones) * 100\n",
    "print(f\"La cantidad de pobres en la muestra es de {cantidad_de_pobres}\")\n",
    "print(f\"El porcentaje de pobres de la muestra es de {porcentaje_pobres:.2f}%\")"
   ]
  },
  {
   "cell_type": "markdown",
   "id": "9e029628",
   "metadata": {},
   "source": [
    "# Parte II - Clasificación"
   ]
  },
  {
   "cell_type": "markdown",
   "id": "6f2054c2",
   "metadata": {},
   "source": [
    "### Ejercicio 1\n",
    "Eliminamos las variables relacionadas a ingresos, las columnas adulto_equiv; ad_equiv_hogar e ingreso_necesario"
   ]
  },
  {
   "cell_type": "code",
   "execution_count": 27,
   "id": "ba2c9eee",
   "metadata": {
    "scrolled": true
   },
   "outputs": [
    {
     "data": {
      "text/html": [
       "<div>\n",
       "<style scoped>\n",
       "    .dataframe tbody tr th:only-of-type {\n",
       "        vertical-align: middle;\n",
       "    }\n",
       "\n",
       "    .dataframe tbody tr th {\n",
       "        vertical-align: top;\n",
       "    }\n",
       "\n",
       "    .dataframe thead th {\n",
       "        text-align: right;\n",
       "    }\n",
       "</style>\n",
       "<table border=\"1\" class=\"dataframe\">\n",
       "  <thead>\n",
       "    <tr style=\"text-align: right;\">\n",
       "      <th></th>\n",
       "      <th>CODUSU</th>\n",
       "      <th>ANO4</th>\n",
       "      <th>TRIMESTRE</th>\n",
       "      <th>NRO_HOGAR</th>\n",
       "      <th>COMPONENTE</th>\n",
       "      <th>H15</th>\n",
       "      <th>REGION</th>\n",
       "      <th>MAS_500</th>\n",
       "      <th>AGLOMERADO</th>\n",
       "      <th>PONDERA</th>\n",
       "      <th>...</th>\n",
       "      <th>PP11N</th>\n",
       "      <th>PP11O</th>\n",
       "      <th>PP11P</th>\n",
       "      <th>PP11Q</th>\n",
       "      <th>PP11R</th>\n",
       "      <th>PP11S</th>\n",
       "      <th>PP11T</th>\n",
       "      <th>PDECOCUR</th>\n",
       "      <th>ADECOCUR</th>\n",
       "      <th>PONDIIO</th>\n",
       "    </tr>\n",
       "  </thead>\n",
       "  <tbody>\n",
       "    <tr>\n",
       "      <th>183</th>\n",
       "      <td>TQRMNOPYVHLMRLCDEIJAH00719346</td>\n",
       "      <td>2023</td>\n",
       "      <td>1</td>\n",
       "      <td>1</td>\n",
       "      <td>3</td>\n",
       "      <td>1</td>\n",
       "      <td>1</td>\n",
       "      <td>S</td>\n",
       "      <td>33</td>\n",
       "      <td>2086</td>\n",
       "      <td>...</td>\n",
       "      <td>NaN</td>\n",
       "      <td>NaN</td>\n",
       "      <td>NaN</td>\n",
       "      <td>NaN</td>\n",
       "      <td>NaN</td>\n",
       "      <td>NaN</td>\n",
       "      <td>NaN</td>\n",
       "      <td>NaN</td>\n",
       "      <td>0</td>\n",
       "      <td>2086</td>\n",
       "    </tr>\n",
       "    <tr>\n",
       "      <th>281</th>\n",
       "      <td>TQRMNOSRXHKMLUCDEIIAD00780093</td>\n",
       "      <td>2023</td>\n",
       "      <td>1</td>\n",
       "      <td>1</td>\n",
       "      <td>3</td>\n",
       "      <td>1</td>\n",
       "      <td>1</td>\n",
       "      <td>S</td>\n",
       "      <td>32</td>\n",
       "      <td>2361</td>\n",
       "      <td>...</td>\n",
       "      <td>NaN</td>\n",
       "      <td>NaN</td>\n",
       "      <td>NaN</td>\n",
       "      <td>NaN</td>\n",
       "      <td>NaN</td>\n",
       "      <td>NaN</td>\n",
       "      <td>NaN</td>\n",
       "      <td>NaN</td>\n",
       "      <td>0</td>\n",
       "      <td>2361</td>\n",
       "    </tr>\n",
       "    <tr>\n",
       "      <th>282</th>\n",
       "      <td>TQRMNOSRXHKMLUCDEIIAD00780093</td>\n",
       "      <td>2023</td>\n",
       "      <td>1</td>\n",
       "      <td>1</td>\n",
       "      <td>4</td>\n",
       "      <td>0</td>\n",
       "      <td>1</td>\n",
       "      <td>S</td>\n",
       "      <td>32</td>\n",
       "      <td>2361</td>\n",
       "      <td>...</td>\n",
       "      <td>NaN</td>\n",
       "      <td>NaN</td>\n",
       "      <td>NaN</td>\n",
       "      <td>NaN</td>\n",
       "      <td>NaN</td>\n",
       "      <td>NaN</td>\n",
       "      <td>NaN</td>\n",
       "      <td>NaN</td>\n",
       "      <td>0</td>\n",
       "      <td>2361</td>\n",
       "    </tr>\n",
       "    <tr>\n",
       "      <th>303</th>\n",
       "      <td>TQRMNOQXQHKNQLCDEIJAH00780794</td>\n",
       "      <td>2023</td>\n",
       "      <td>1</td>\n",
       "      <td>1</td>\n",
       "      <td>1</td>\n",
       "      <td>1</td>\n",
       "      <td>1</td>\n",
       "      <td>S</td>\n",
       "      <td>33</td>\n",
       "      <td>1829</td>\n",
       "      <td>...</td>\n",
       "      <td>NaN</td>\n",
       "      <td>NaN</td>\n",
       "      <td>NaN</td>\n",
       "      <td>NaN</td>\n",
       "      <td>NaN</td>\n",
       "      <td>NaN</td>\n",
       "      <td>NaN</td>\n",
       "      <td>NaN</td>\n",
       "      <td>9</td>\n",
       "      <td>2429</td>\n",
       "    </tr>\n",
       "    <tr>\n",
       "      <th>305</th>\n",
       "      <td>TQRMNOQXQHKNQLCDEIJAH00780794</td>\n",
       "      <td>2023</td>\n",
       "      <td>1</td>\n",
       "      <td>1</td>\n",
       "      <td>3</td>\n",
       "      <td>1</td>\n",
       "      <td>1</td>\n",
       "      <td>S</td>\n",
       "      <td>33</td>\n",
       "      <td>1829</td>\n",
       "      <td>...</td>\n",
       "      <td>NaN</td>\n",
       "      <td>NaN</td>\n",
       "      <td>NaN</td>\n",
       "      <td>NaN</td>\n",
       "      <td>NaN</td>\n",
       "      <td>NaN</td>\n",
       "      <td>NaN</td>\n",
       "      <td>NaN</td>\n",
       "      <td>0</td>\n",
       "      <td>1829</td>\n",
       "    </tr>\n",
       "  </tbody>\n",
       "</table>\n",
       "<p>5 rows × 128 columns</p>\n",
       "</div>"
      ],
      "text/plain": [
       "                            CODUSU  ANO4  TRIMESTRE  NRO_HOGAR  COMPONENTE  \\\n",
       "183  TQRMNOPYVHLMRLCDEIJAH00719346  2023          1          1           3   \n",
       "281  TQRMNOSRXHKMLUCDEIIAD00780093  2023          1          1           3   \n",
       "282  TQRMNOSRXHKMLUCDEIIAD00780093  2023          1          1           4   \n",
       "303  TQRMNOQXQHKNQLCDEIJAH00780794  2023          1          1           1   \n",
       "305  TQRMNOQXQHKNQLCDEIJAH00780794  2023          1          1           3   \n",
       "\n",
       "     H15  REGION MAS_500  AGLOMERADO  PONDERA  ...  PP11N  PP11O PP11P  PP11Q  \\\n",
       "183    1       1       S          33     2086  ...    NaN    NaN   NaN    NaN   \n",
       "281    1       1       S          32     2361  ...    NaN    NaN   NaN    NaN   \n",
       "282    0       1       S          32     2361  ...    NaN    NaN   NaN    NaN   \n",
       "303    1       1       S          33     1829  ...    NaN    NaN   NaN    NaN   \n",
       "305    1       1       S          33     1829  ...    NaN    NaN   NaN    NaN   \n",
       "\n",
       "     PP11R  PP11S  PP11T  PDECOCUR  ADECOCUR  PONDIIO  \n",
       "183    NaN    NaN    NaN       NaN         0     2086  \n",
       "281    NaN    NaN    NaN       NaN         0     2361  \n",
       "282    NaN    NaN    NaN       NaN         0     2361  \n",
       "303    NaN    NaN    NaN       NaN         9     2429  \n",
       "305    NaN    NaN    NaN       NaN         0     1829  \n",
       "\n",
       "[5 rows x 128 columns]"
      ]
     },
     "execution_count": 27,
     "metadata": {},
     "output_type": "execute_result"
    }
   ],
   "source": [
    "# Proseguimos a eliminar las variables relacionadas a ingresos\n",
    "respondieron.head() #181\n",
    "data_eph.head() #179 columnas\n",
    "\n",
    "# Ingresos de la ocupación principal de los asalariados: PP08D1, PP08D4, PP08F1, PP08F2, PP08J1, PP08J2, PP08J3\n",
    "# Ingresos de la ocupación principal: P21, DECOCUR, IDECOCUR, RDECOCUR, GDECOCUR\n",
    "# Ingreso de otras ocupaciones: TOT_P12\n",
    "# Ingreso total individual: P47T, DECINDR, IDECINDR, RDECINDR, GDECINDR, PDECINDR, ADECINDR, PONDII\n",
    "# Ingresos no laborales: V2_M, V3_M, V4_M, V5_M, V8_M, V9_M, V10_M, V11_M, V12_M, V18_M, V19_AM, V21_M, T_VI\n",
    "# Ingreso total familiar: ITF, DECIFR, IDECIFR, RDECIFR, GDECIFR, PDECIFR, ADECIFR\n",
    "# Ingreso per cápita familiar: IPCF, DECCFR, IDECCFR, RDECCFR, GDECCFR, PDECCFR, ADECCFR, PONDIH\n",
    "# Columnas agregadas: adulto_equiv, ad_equiv_hogar e ingreso_necesario\n",
    "# Nota: ingreso_necesario lo teniamos dentro del dataframe de respondieron, no en el de data_eph\n",
    "# Lista de las columnas a eliminar\n",
    "columnas_a_eliminar = ['PP08D1', 'PP08D4', 'PP08F1', 'PP08F2', 'PP08J1', 'PP08J2', 'PP08J3',\n",
    "                       'P21', 'DECOCUR', 'IDECOCUR', 'RDECOCUR', 'GDECOCUR', 'TOT_P12',\n",
    "                       'P47T', 'DECINDR', 'IDECINDR', 'RDECINDR', 'GDECINDR', 'PDECINDR', 'ADECINDR', 'PONDII',\n",
    "                       'V2_M', 'V3_M', 'V4_M', 'V5_M', 'V8_M', 'V9_M', 'V10_M', 'V11_M', 'V12_M', 'V18_M', 'V19_AM', 'V21_M', 'T_VI',\n",
    "                       'ITF', 'DECIFR', 'IDECIFR', 'RDECIFR', 'GDECIFR', 'PDECIFR', 'ADECIFR',\n",
    "                       'IPCF', 'DECCFR', 'IDECCFR', 'RDECCFR', 'GDECCFR', 'PDECCFR', 'ADECCFR', 'PONDIH','adulto_equiv','ad_equiv_hogar']\n",
    "\n",
    "\n",
    "\n",
    "# Eliminamos las columnas\n",
    "data_eph = data_eph.drop(columns=columnas_a_eliminar)\n",
    "data_eph.head() #128 columnas\n",
    "respondieron = respondieron.drop (columns=columnas_a_eliminar)\n",
    "respondieron = respondieron.drop(columns=['ingreso_necesario'])\n",
    "respondieron.head() #129 columnas\n",
    "no_respondieron = no_respondieron.drop (columns=columnas_a_eliminar)\n",
    "no_respondieron.head() #128"
   ]
  },
  {
   "cell_type": "code",
   "execution_count": null,
   "id": "185adc8c",
   "metadata": {},
   "outputs": [],
   "source": [
    "# Exportamos los excel \n",
    "#data_eph.to_excel(\"eph.xlsx\", index=False)\n",
    "#respondieron.to_excel(\"respondieron.xlsx\", index=False)\n",
    "#no_respondieron.to_excel(\"no_respondieron.xlsx\", index=False)"
   ]
  },
  {
   "cell_type": "markdown",
   "id": "f15efc12",
   "metadata": {},
   "source": [
    "### Ejercicio 2\n",
    "En la base respondieron generamos una base de prueba (test) y una de entrenamiento (train). La base de entrenamiento debe representar el 70% y la semilla debe ser 201. "
   ]
  },
  {
   "cell_type": "code",
   "execution_count": 28,
   "id": "92c6141a",
   "metadata": {},
   "outputs": [],
   "source": [
    "# Importamos los paquetes\n",
    "import statsmodels.api as sm     \n",
    "\n",
    "from sklearn import datasets\n",
    "from sklearn.linear_model import LogisticRegression\n",
    "from sklearn.model_selection import train_test_split\n",
    "from sklearn.metrics import confusion_matrix\n",
    "from sklearn.metrics import accuracy_score, recall_score \n",
    "from sklearn.metrics import roc_curve\n",
    "from sklearn.metrics import roc_auc_score\n",
    "from sklearn.metrics import RocCurveDisplay\n",
    "# from sklearn.metrics import plot_roc_curve\n",
    "from sklearn.discriminant_analysis import LinearDiscriminantAnalysis\n",
    "from sklearn.neighbors import KNeighborsClassifier"
   ]
  },
  {
   "cell_type": "code",
   "execution_count": 29,
   "id": "910e427c",
   "metadata": {},
   "outputs": [
    {
     "name": "stdout",
     "output_type": "stream",
     "text": [
      "       ANO4  TRIMESTRE  NRO_HOGAR  COMPONENTE  H15  REGION  AGLOMERADO  \\\n",
      "102    2023          1          1           1    1       1          33   \n",
      "103    2023          1          1           2    1       1          33   \n",
      "104    2023          1          1           1    1       1          33   \n",
      "105    2023          1          1           2    1       1          33   \n",
      "106    2023          1          1           3    0       1          33   \n",
      "...     ...        ...        ...         ...  ...     ...         ...   \n",
      "48593  2023          1          1           5    0       1          33   \n",
      "48594  2023          1          1           1    1       1          33   \n",
      "48595  2023          1          1           2    1       1          33   \n",
      "48596  2023          1          1           3    0       1          33   \n",
      "48597  2023          1          1           1    1       1          33   \n",
      "\n",
      "       PONDERA  CH03  CH04  ...  PP02C5  PP02C6  PP02C7  PP02C8  PP02E  PP02H  \\\n",
      "102       1545     1     2  ...       0       0       0       0      0      2   \n",
      "103       1545     2     1  ...       0       0       0       0      0      0   \n",
      "104       8423     1     1  ...       0       0       0       0      0      0   \n",
      "105       8423     2     2  ...       0       0       0       0      0      0   \n",
      "106       8423     3     2  ...       0       0       0       0      0      0   \n",
      "...        ...   ...   ...  ...     ...     ...     ...     ...    ...    ...   \n",
      "48593     3232     3     1  ...       0       0       0       0      0      0   \n",
      "48594     1236     1     1  ...       0       0       0       0      0      0   \n",
      "48595     1236     2     2  ...       0       0       0       0      0      0   \n",
      "48596     1236     3     1  ...       0       0       0       0      0      0   \n",
      "48597     1300     1     2  ...       0       0       0       0      0      2   \n",
      "\n",
      "       PP02I  ADECOCUR  PONDIIO  pobre  \n",
      "102        2         0     1545      0  \n",
      "103        0         1     3074      0  \n",
      "104        0         2    14906      1  \n",
      "105        0         2    15878      1  \n",
      "106        0         0     8423      1  \n",
      "...      ...       ...      ...    ...  \n",
      "48593      0         0     3232      1  \n",
      "48594      0         9     1755      0  \n",
      "48595      0        10     1887      0  \n",
      "48596      0         0     1236      0  \n",
      "48597      2         0     1300      0  \n",
      "\n",
      "[4173 rows x 38 columns]\n"
     ]
    }
   ],
   "source": [
    "# Eliminamos las string \n",
    "columnas_string = respondieron.select_dtypes(include=['object']).columns\n",
    "respondieron = respondieron.drop(columnas_string, axis=1)\n",
    "\n",
    "# Eliminamos aquellas variables que tienen muchos missings y no creemos que tenga valor predictivo en nuestra variable de interés.\n",
    "# Especificamos un umbral de valores faltantes\n",
    "umbral = 150\n",
    "# Cramos una función para eliminar filas con más del \"umbral\" de valores faltantes\n",
    "def eliminar_columnas_con_missings(respondieron, umbral):\n",
    "    columnas_a_eliminar = [columna for columna in respondieron.columns if respondieron[columna].isna().sum() > umbral]\n",
    "    respondieron = respondieron.drop(columnas_a_eliminar, axis=1)\n",
    "    return respondieron\n",
    "\n",
    "# Aplicamos la función para eliminar columnas con más del \"umbral\" de valores faltantes\n",
    "respondieron = eliminar_columnas_con_missings(respondieron, umbral)\n",
    "\n",
    "# Resultado\n",
    "print(respondieron)"
   ]
  },
  {
   "cell_type": "code",
   "execution_count": 30,
   "id": "d43ebff2",
   "metadata": {},
   "outputs": [],
   "source": [
    "# Definimos a la variable pobre como nuestra variable dependiente\n",
    "Y = respondieron['pobre']\n",
    "\n",
    "# Definimos las variables independientes (X) excluyendo 'pobre' y agregando una columna de unos\n",
    "X = respondieron.drop(columns=['pobre'])\n",
    "\n",
    "# Agregamos una columna de unos como la primera columna\n",
    "X = pd.concat([pd.Series(1, index=X.index, name='constante'), X], axis=1)\n",
    "\n",
    "# Dividimos la base de datos en conjuntos de entrenamiento y prueba (70% entrenamiento, 30% prueba)\n",
    "X_train, X_test, Y_train, Y_test = train_test_split(X, Y, test_size=0.3, random_state=201)\n"
   ]
  },
  {
   "cell_type": "markdown",
   "id": "292d9593",
   "metadata": {},
   "source": [
    "### Ejercicio 3\n",
    " Implementamos logit, análisis discrimiante lineal, KNN con k=3\n",
    " "
   ]
  },
  {
   "cell_type": "markdown",
   "id": "b8a69fa3",
   "metadata": {},
   "source": [
    "### Logit"
   ]
  },
  {
   "cell_type": "code",
   "execution_count": 32,
   "id": "57cdc9f6",
   "metadata": {
    "scrolled": true
   },
   "outputs": [
    {
     "name": "stderr",
     "output_type": "stream",
     "text": [
      "C:\\Users\\Usuario\\anaconda3\\Lib\\site-packages\\sklearn\\linear_model\\_logistic.py:460: ConvergenceWarning: lbfgs failed to converge (status=1):\n",
      "STOP: TOTAL NO. of ITERATIONS REACHED LIMIT.\n",
      "\n",
      "Increase the number of iterations (max_iter) or scale the data as shown in:\n",
      "    https://scikit-learn.org/stable/modules/preprocessing.html\n",
      "Please also refer to the documentation for alternative solver options:\n",
      "    https://scikit-learn.org/stable/modules/linear_model.html#logistic-regression\n",
      "  n_iter_i = _check_optimize_result(\n"
     ]
    }
   ],
   "source": [
    "# Inicializamos con el modelo de regresión logística\n",
    "log_reg = LogisticRegression(max_iter=1000).fit(X_train, Y_train)\n",
    "\n",
    "# Hacemos las predicciones\n",
    "Y_test_pred_score = log_reg.predict_proba(X_test)[:,1] \n",
    "Y_test_pred = log_reg.predict(X_test)"
   ]
  },
  {
   "cell_type": "code",
   "execution_count": 33,
   "id": "e54ce7c8",
   "metadata": {},
   "outputs": [
    {
     "name": "stdout",
     "output_type": "stream",
     "text": [
      "Confusion Matrix:\n",
      "[[634 145]\n",
      " [156 317]]\n"
     ]
    }
   ],
   "source": [
    "# Calculamos la matriz de confusión\n",
    "matriz_confusion = confusion_matrix(Y_test, Y_test_pred)\n",
    "print('Confusion Matrix:')\n",
    "print(matriz_confusion) "
   ]
  },
  {
   "cell_type": "code",
   "execution_count": 34,
   "id": "97686f94",
   "metadata": {
    "scrolled": true
   },
   "outputs": [
    {
     "name": "stdout",
     "output_type": "stream",
     "text": [
      "Accuracy Score: 0.7595846645367412\n"
     ]
    }
   ],
   "source": [
    "# Calculamos la precisión\n",
    "print('Accuracy Score:', accuracy_score(Y_test, Y_test_pred))"
   ]
  },
  {
   "cell_type": "code",
   "execution_count": 35,
   "id": "4c47bf98",
   "metadata": {},
   "outputs": [
    {
     "name": "stdout",
     "output_type": "stream",
     "text": [
      "AUC: 0.742\n"
     ]
    }
   ],
   "source": [
    "# Valores AUC\n",
    "auc = roc_auc_score(Y_test, Y_test_pred)\n",
    "print('AUC: %.3f' % auc)"
   ]
  },
  {
   "cell_type": "code",
   "execution_count": 52,
   "id": "0e910d7e",
   "metadata": {
    "scrolled": true
   },
   "outputs": [
    {
     "data": {
      "image/png": "[encoded data removed]",
      "text/plain": [
       "<Figure size 640x480 with 1 Axes>"
      ]
     },
     "metadata": {},
     "output_type": "display_data"
    }
   ],
   "source": [
    "# Hacemos la curva ROC\n",
    "fpr, tpr, thresholds = roc_curve(Y_test, Y_test_pred)\n",
    "display = RocCurveDisplay(fpr=fpr, tpr=tpr, roc_auc=auc, estimator_name='Logit')\n",
    "display.plot()  \n",
    "plt.plot([0, 1], [0, 1], color='red', linestyle='--')\n",
    "plt.savefig('ROC_logit.jpg', dpi=300, bbox_inches='tight')\n",
    "plt.show() "
   ]
  },
  {
   "cell_type": "markdown",
   "id": "28d68794",
   "metadata": {},
   "source": [
    "### Análisis discriminante lineal"
   ]
  },
  {
   "cell_type": "code",
   "execution_count": 37,
   "id": "62021704",
   "metadata": {},
   "outputs": [],
   "source": [
    "# Calculamos el número de componentes a utilizar en el análisis de discriminante lineal (LDA)\n",
    "# Nota: limitaciones de LDA, que no puede tener más componentes que el número de clases menos 1.\n",
    "n_components = min(X_train.shape[1], len(set(Y_train)) - 1)\n",
    "lda = LinearDiscriminantAnalysis(n_components=n_components)\n",
    "lda = lda.fit(X_train, Y_train)\n",
    "X_r = lda.transform(X_train)\n",
    "Y_test_pred_lda = lda.predict(X_test)"
   ]
  },
  {
   "cell_type": "code",
   "execution_count": 38,
   "id": "3fa3585c",
   "metadata": {},
   "outputs": [
    {
     "name": "stdout",
     "output_type": "stream",
     "text": [
      "Confusion Matrix:\n",
      "[[622 157]\n",
      " [153 320]]\n"
     ]
    }
   ],
   "source": [
    "# Calculamos la matriz de confusión\n",
    "matriz_confusion_lda = confusion_matrix(Y_test, Y_test_pred_lda)\n",
    "print('Confusion Matrix:')\n",
    "print(matriz_confusion_lda) "
   ]
  },
  {
   "cell_type": "code",
   "execution_count": 39,
   "id": "1ba7e175",
   "metadata": {},
   "outputs": [
    {
     "name": "stdout",
     "output_type": "stream",
     "text": [
      "Accuracy Score: 0.7523961661341853\n"
     ]
    }
   ],
   "source": [
    "# Calculamos la precisión\n",
    "print('Accuracy Score:', accuracy_score(Y_test, Y_test_pred_lda))"
   ]
  },
  {
   "cell_type": "code",
   "execution_count": 40,
   "id": "348d2ec1",
   "metadata": {},
   "outputs": [
    {
     "name": "stdout",
     "output_type": "stream",
     "text": [
      "AUC: 0.737\n"
     ]
    }
   ],
   "source": [
    "# Valores AUC\n",
    "aucl = roc_auc_score(Y_test, Y_test_pred_lda)\n",
    "print('AUC: %.3f' % aucl)"
   ]
  },
  {
   "cell_type": "code",
   "execution_count": 51,
   "id": "8c954cf9",
   "metadata": {
    "scrolled": true
   },
   "outputs": [
    {
     "data": {
      "image/png": "[encoded data removed]",
      "text/plain": [
       "<Figure size 640x480 with 1 Axes>"
      ]
     },
     "metadata": {},
     "output_type": "display_data"
    }
   ],
   "source": [
    "# Hacemos la curva ROC\n",
    "fprl, tprl, thresholdsl = roc_curve(Y_test, Y_test_pred_lda)\n",
    "display = RocCurveDisplay(fpr=fprl, tpr=tprl, roc_auc=aucl, estimator_name='LDA')\n",
    "display.plot()  \n",
    "plt.plot([0, 1], [0, 1], color='red', linestyle='--')\n",
    "plt.savefig('ROC_ADL.jpg', dpi=300, bbox_inches='tight')\n",
    "plt.show() "
   ]
  },
  {
   "cell_type": "markdown",
   "id": "42fa7d2a",
   "metadata": {},
   "source": [
    "### K - Vecinos cercanos"
   ]
  },
  {
   "cell_type": "code",
   "execution_count": 42,
   "id": "2c1e1b92",
   "metadata": {},
   "outputs": [],
   "source": [
    "# Establecemos a X_train y X test en Numpy\n",
    "X_train_a = X_train.to_numpy()\n",
    "X_test_a = X_test.to_numpy()\n",
    "\n",
    "# Fijamos el valor de k en 3\n",
    "k = 3\n",
    "\n",
    "# Creamos un modelo KNN con k=3\n",
    "knn = KNeighborsClassifier(n_neighbors=k)\n",
    "\n",
    "# Ajustamos el modelo KNN con los datos de entrenamiento\n",
    "knn.fit(X_train_a, Y_train)\n",
    "\n",
    "# Realizamos predicciones en los datos de prueba\n",
    "Y_test_pred_knn = knn.predict(X_test_a)"
   ]
  },
  {
   "cell_type": "code",
   "execution_count": 43,
   "id": "e0f812e8",
   "metadata": {
    "scrolled": true
   },
   "outputs": [
    {
     "name": "stdout",
     "output_type": "stream",
     "text": [
      "Confusion Matrix:\n",
      "[[600 179]\n",
      " [205 268]]\n"
     ]
    }
   ],
   "source": [
    "# Calculamos la matriz de confusión\n",
    "matriz_confusion_knn = confusion_matrix(Y_test, Y_test_pred_knn)\n",
    "print('Confusion Matrix:')\n",
    "print(matriz_confusion_knn)"
   ]
  },
  {
   "cell_type": "code",
   "execution_count": 44,
   "id": "36888a8c",
   "metadata": {
    "scrolled": true
   },
   "outputs": [
    {
     "name": "stdout",
     "output_type": "stream",
     "text": [
      "Para k = 3, la precisión del modelo KNN es: 0.69\n"
     ]
    }
   ],
   "source": [
    "# Calcula la precisión del modelo KNN\n",
    "accuracy_knn = accuracy_score(Y_test, Y_test_pred_knn)\n",
    "print(f\"Para k = {k}, la precisión del modelo KNN es: {accuracy_knn:.2f}\")"
   ]
  },
  {
   "cell_type": "code",
   "execution_count": 45,
   "id": "50ce8f27",
   "metadata": {},
   "outputs": [
    {
     "name": "stdout",
     "output_type": "stream",
     "text": [
      "AUC: 0.668\n"
     ]
    }
   ],
   "source": [
    "# Valores AUC\n",
    "auck = roc_auc_score(Y_test, Y_test_pred_knn)\n",
    "print('AUC: %.3f' % auck)"
   ]
  },
  {
   "cell_type": "code",
   "execution_count": 50,
   "id": "de35f040",
   "metadata": {
    "scrolled": true
   },
   "outputs": [
    {
     "data": {
      "image/png": "[encoded data removed]",
      "text/plain": [
       "<Figure size 640x480 with 1 Axes>"
      ]
     },
     "metadata": {},
     "output_type": "display_data"
    }
   ],
   "source": [
    "# Hacemos la curva ROC\n",
    "fprk, tprk, thresholdsk = roc_curve(Y_test, Y_test_pred_knn)\n",
    "display = RocCurveDisplay(fpr=fprk, tpr=tprk, roc_auc=auck, estimator_name='KNN')\n",
    "display.plot()  \n",
    "plt.plot([0, 1], [0, 1], color='red', linestyle='--')\n",
    "plt.savefig('ROC_KNN.jpg', dpi=300, bbox_inches='tight')\n",
    "plt.show() \n"
   ]
  },
  {
   "cell_type": "markdown",
   "id": "f281f6b9",
   "metadata": {},
   "source": [
    "### Ejericio 4\n",
    "El que mejor predice es el Logit - respondemos en PDF"
   ]
  },
  {
   "cell_type": "markdown",
   "id": "79d0948d",
   "metadata": {},
   "source": [
    "### Ejericio 5\n",
    "Predecir qué personas son pobres dentro de la base no respondieron."
   ]
  },
  {
   "cell_type": "code",
   "execution_count": 53,
   "id": "681b38d4",
   "metadata": {
    "scrolled": true
   },
   "outputs": [],
   "source": [
    "# Dejamos en la base de no_respondieron las mismas variables que aparecen en respondieron.\n",
    "# Lista de nombres de columnas en 'respondieron'\n",
    "columnas_respondieron = respondieron.columns\n",
    "columnas_respondieron = columnas_respondieron.drop(\"pobre\")\n",
    "\n",
    "# Filtramos en 'no_respondieron' para dejar solo las columnas presentes en 'respondieron'\n",
    "no_respondieron = no_respondieron[columnas_respondieron]"
   ]
  },
  {
   "cell_type": "code",
   "execution_count": 54,
   "id": "df31cf6c",
   "metadata": {},
   "outputs": [],
   "source": [
    "# Agregamos una columna de la constante \n",
    "Xp = no_respondieron\n",
    "Xp = pd.concat([pd.Series(1, index=Xp.index, name='constante'), Xp], axis=1)"
   ]
  },
  {
   "cell_type": "code",
   "execution_count": 55,
   "id": "882d9ec1",
   "metadata": {},
   "outputs": [
    {
     "name": "stdout",
     "output_type": "stream",
     "text": [
      "Proporción de personas consideradas 'pobres': 0.5183719615602035\n",
      "Proporción de personas consideradas 'no pobres': 0.4816280384397965\n"
     ]
    }
   ],
   "source": [
    "# Generamos la variable Y según el método entrenado\n",
    "Y_norespondieron_pred = log_reg.predict(Xp)\n",
    "\n",
    "# Calcula la proporción de personas \"pobres\" y \"no pobres\"\n",
    "proporcion_pobres = (Y_norespondieron_pred == 1).mean()\n",
    "proporcion_no_pobres = (Y_norespondieron_pred == 0).mean()\n",
    "\n",
    "print(\"Proporción de personas consideradas 'pobres':\", proporcion_pobres)\n",
    "print(\"Proporción de personas consideradas 'no pobres':\", proporcion_no_pobres)\n"
   ]
  },
  {
   "cell_type": "markdown",
   "id": "12bfa547",
   "metadata": {},
   "source": [
    "### Ejericio 2_2 - Comienzo del ejercicio 6.\n",
    "En la base respondieron generamos una base de prueba (test) y una de entrenamiento (train). La base de entrenamiento debe representar el 70% y la semilla debe ser 201. \n",
    "## NOTA IMPORTANTE: habíamos realizado los ejercicios con la muestra recortada, lo dejamos para observar el comportamiento de los modelos."
   ]
  },
  {
   "cell_type": "code",
   "execution_count": 61,
   "id": "0dfd5e29",
   "metadata": {},
   "outputs": [],
   "source": [
    "# Para implementar la predicción, tomaremos aquellas variables que creemos relevantes, dejando de lado aquellas que son string\n",
    "# tienen varios missings o son creemos irrelevantes para rpedecir nuestra variable de interés\n",
    "columnas_deseadas = ['pobre', 'CH03', 'CH04', 'CH06', 'CH07', 'CH08', 'CH09', 'CH10', 'CH12', 'NIVEL_ED', 'CH16', 'ESTADO', 'CAT_INAC']\n",
    "respondieron_2 = respondieron[columnas_deseadas]\n",
    "\n",
    "# Definimos a la variable pobre como nuestra variable dependiente\n",
    "Y_2 = respondieron_2['pobre']\n",
    "\n",
    "# Definimos las variables independientes (X) excluyendo 'pobre' y agregando una columna de unos\n",
    "X_2 = respondieron_2.drop(columns=['pobre'])\n",
    "\n",
    "# Agregamos una columna de unos como la primera columna\n",
    "X_2 = pd.concat([pd.Series(1, index=X_2.index, name='constante'), X_2], axis=1)\n",
    "\n",
    "# Dividimos la base de datos en conjuntos de entrenamiento y prueba (70% entrenamiento, 30% prueba)\n",
    "X_train_2, X_test_2, Y_train_2, Y_test_2 = train_test_split(X_2, Y_2, test_size=0.3, random_state=201)"
   ]
  },
  {
   "cell_type": "markdown",
   "id": "c3b0e7b6",
   "metadata": {},
   "source": [
    "### Ejercicio 3_2\n",
    " Implementamos logit, análisis discrimiante lineal, KNN con k=3\n",
    " "
   ]
  },
  {
   "cell_type": "markdown",
   "id": "a46402b4",
   "metadata": {},
   "source": [
    "### Logit_2"
   ]
  },
  {
   "cell_type": "code",
   "execution_count": 68,
   "id": "9369d90b",
   "metadata": {
    "scrolled": true
   },
   "outputs": [],
   "source": [
    "# Inicializamos con el modelo de regresión logística\n",
    "log_reg_2 = LogisticRegression(max_iter=1000).fit(X_train_2, Y_train_2)\n",
    "\n",
    "# Hacemos las predicciones\n",
    "Y_test_pred_score_2 = log_reg_2.predict_proba(X_test_2)[:,1] \n",
    "Y_test_pred_2 = log_reg_2.predict(X_test_2)\n"
   ]
  },
  {
   "cell_type": "code",
   "execution_count": 69,
   "id": "4776dd2c",
   "metadata": {},
   "outputs": [
    {
     "name": "stdout",
     "output_type": "stream",
     "text": [
      "Confusion Matrix:\n",
      "[[641 138]\n",
      " [245 228]]\n"
     ]
    }
   ],
   "source": [
    "# Calculamos la matriz de confusión\n",
    "matriz_confusion_2 = confusion_matrix(Y_test_2, Y_test_pred_2)\n",
    "print('Confusion Matrix:')\n",
    "print(matriz_confusion_2) "
   ]
  },
  {
   "cell_type": "code",
   "execution_count": 70,
   "id": "c9c73a52",
   "metadata": {},
   "outputs": [
    {
     "name": "stdout",
     "output_type": "stream",
     "text": [
      "Accuracy Score: 0.6940894568690096\n"
     ]
    }
   ],
   "source": [
    "# Calculamos la precisión\n",
    "print('Accuracy Score:', accuracy_score(Y_test_2, Y_test_pred_2))"
   ]
  },
  {
   "cell_type": "code",
   "execution_count": 71,
   "id": "b3be6829",
   "metadata": {},
   "outputs": [
    {
     "name": "stdout",
     "output_type": "stream",
     "text": [
      "AUC: 0.652\n"
     ]
    }
   ],
   "source": [
    "# Valores AUC\n",
    "auc_2 = roc_auc_score(Y_test_2, Y_test_pred_2)\n",
    "print('AUC: %.3f' % auc_2)"
   ]
  },
  {
   "cell_type": "code",
   "execution_count": 72,
   "id": "48144274",
   "metadata": {
    "scrolled": true
   },
   "outputs": [
    {
     "data": {
      "image/png": "[encoded data removed]",
      "text/plain": [
       "<Figure size 640x480 with 1 Axes>"
      ]
     },
     "metadata": {},
     "output_type": "display_data"
    }
   ],
   "source": [
    "# Hacemos la curva ROC\n",
    "fpr_2, tpr_2, thresholds_2 = roc_curve(Y_test_2, Y_test_pred_2)\n",
    "display = RocCurveDisplay(fpr=fpr_2, tpr=tpr_2, roc_auc=auc_2, estimator_name='Logit_2')\n",
    "display.plot()  \n",
    "plt.plot([0, 1], [0, 1], color='red', linestyle='--')\n",
    "plt.show() "
   ]
  },
  {
   "cell_type": "markdown",
   "id": "ab985fe9",
   "metadata": {},
   "source": [
    "### Análisis Discriminante_2"
   ]
  },
  {
   "cell_type": "code",
   "execution_count": 73,
   "id": "bfe8964d",
   "metadata": {},
   "outputs": [],
   "source": [
    "# se calcula el número de componentes a utilizar en el análisis de discriminante lineal (LDA)\n",
    "# Nota: limitaciones de LDA, que no puede tener más componentes que el número de clases menos 1.\n",
    "n_components_2 = min(X_train_2.shape[1], len(set(Y_train_2)) - 1)\n",
    "lda_2 = LinearDiscriminantAnalysis(n_components=n_components_2)\n",
    "lda_2 = lda_2.fit(X_train_2, Y_train_2)\n",
    "X_r_2 = lda_2.transform(X_train_2)\n",
    "Y_test_pred_lda_2 = lda_2.predict(X_test_2)"
   ]
  },
  {
   "cell_type": "code",
   "execution_count": 74,
   "id": "87f3faec",
   "metadata": {},
   "outputs": [
    {
     "name": "stdout",
     "output_type": "stream",
     "text": [
      "Confusion Matrix:\n",
      "[[633 146]\n",
      " [234 239]]\n"
     ]
    }
   ],
   "source": [
    "# Calculamos la matriz de confusión\n",
    "matriz_confusion_lda_2 = confusion_matrix(Y_test_2, Y_test_pred_lda_2)\n",
    "print('Confusion Matrix:')\n",
    "print(matriz_confusion_lda_2) "
   ]
  },
  {
   "cell_type": "code",
   "execution_count": 75,
   "id": "2c44678b",
   "metadata": {},
   "outputs": [
    {
     "name": "stdout",
     "output_type": "stream",
     "text": [
      "Accuracy Score: 0.6964856230031949\n"
     ]
    }
   ],
   "source": [
    "# Calculamos la precisión\n",
    "print('Accuracy Score:', accuracy_score(Y_test_2, Y_test_pred_lda_2))"
   ]
  },
  {
   "cell_type": "code",
   "execution_count": 76,
   "id": "04f11e48",
   "metadata": {},
   "outputs": [
    {
     "name": "stdout",
     "output_type": "stream",
     "text": [
      "AUC: 0.659\n"
     ]
    }
   ],
   "source": [
    "# Valores AUC\n",
    "aucl_2 = roc_auc_score(Y_test_2, Y_test_pred_lda_2)\n",
    "print('AUC: %.3f' % aucl_2)"
   ]
  },
  {
   "cell_type": "code",
   "execution_count": 77,
   "id": "f89a3508",
   "metadata": {
    "scrolled": true
   },
   "outputs": [
    {
     "data": {
      "image/png": "[encoded data removed]",
      "text/plain": [
       "<Figure size 640x480 with 1 Axes>"
      ]
     },
     "metadata": {},
     "output_type": "display_data"
    }
   ],
   "source": [
    "# Hacemos la curva ROC\n",
    "fprl_2, tprl_2, thresholdsl_2 = roc_curve(Y_test_2, Y_test_pred_lda_2)\n",
    "display = RocCurveDisplay(fpr=fprl_2, tpr=tprl_2, roc_auc=aucl_2, estimator_name='LDA_2')\n",
    "display.plot()  \n",
    "plt.plot([0, 1], [0, 1], color='red', linestyle='--')\n",
    "plt.show() "
   ]
  },
  {
   "cell_type": "markdown",
   "id": "2bca88f4",
   "metadata": {},
   "source": [
    "### Vecinos cercanos_2"
   ]
  },
  {
   "cell_type": "code",
   "execution_count": 78,
   "id": "e8f437d8",
   "metadata": {},
   "outputs": [],
   "source": [
    "# Fijamos el valor de k en 3\n",
    "k = 3\n",
    "knn_2 = KNeighborsClassifier(n_neighbors=k)\n",
    "knn_2.fit(X_train_2, Y_train_2)\n",
    "Y_test_pred_knn_2 = knn_2.predict(X_test_2)"
   ]
  },
  {
   "cell_type": "code",
   "execution_count": 79,
   "id": "0a9b8ba2",
   "metadata": {},
   "outputs": [
    {
     "name": "stdout",
     "output_type": "stream",
     "text": [
      "Confusion Matrix:\n",
      "[[598 181]\n",
      " [200 273]]\n"
     ]
    }
   ],
   "source": [
    "# Calculamos la matriz de confusión\n",
    "matriz_confusion_knn_2 = confusion_matrix(Y_test_2, Y_test_pred_knn_2)\n",
    "print('Confusion Matrix:')\n",
    "print(matriz_confusion_knn_2)"
   ]
  },
  {
   "cell_type": "code",
   "execution_count": 80,
   "id": "4e57186a",
   "metadata": {},
   "outputs": [
    {
     "name": "stdout",
     "output_type": "stream",
     "text": [
      "Para k = 3, la precisión del modelo KNN es: 0.70\n"
     ]
    }
   ],
   "source": [
    "# Calcula la precisión del modelo KNN\n",
    "accuracy_knn_2 = accuracy_score(Y_test_2, Y_test_pred_knn_2)\n",
    "print(f\"Para k = {k}, la precisión del modelo KNN es: {accuracy_knn_2:.2f}\")"
   ]
  },
  {
   "cell_type": "code",
   "execution_count": 81,
   "id": "a470a961",
   "metadata": {},
   "outputs": [
    {
     "name": "stdout",
     "output_type": "stream",
     "text": [
      "AUC: 0.672\n"
     ]
    }
   ],
   "source": [
    "# Valores AUC\n",
    "auck_2 = roc_auc_score(Y_test_2, Y_test_pred_knn_2)\n",
    "print('AUC: %.3f' % auck_2)"
   ]
  },
  {
   "cell_type": "code",
   "execution_count": 82,
   "id": "29587461",
   "metadata": {},
   "outputs": [
    {
     "data": {
      "image/png": "[encoded data removed]",
      "text/plain": [
       "<Figure size 640x480 with 1 Axes>"
      ]
     },
     "metadata": {},
     "output_type": "display_data"
    }
   ],
   "source": [
    "# Hacemos la curva ROC\n",
    "fprk_2, tprk_2, thresholdsk_2 = roc_curve(Y_test_2, Y_test_pred_knn_2)\n",
    "display = RocCurveDisplay(fpr=fprk_2, tpr=tprk_2, roc_auc=auck_2, estimator_name='KNN_2')\n",
    "display.plot()  \n",
    "plt.plot([0, 1], [0, 1], color='red', linestyle='--')\n",
    "plt.show() "
   ]
  },
  {
   "cell_type": "markdown",
   "id": "eed3deba",
   "metadata": {},
   "source": [
    "### Ejercicio 4_2\n",
    "El que mejor predice es el de vecinos cercanos."
   ]
  },
  {
   "cell_type": "markdown",
   "id": "3a9edde0",
   "metadata": {},
   "source": [
    "### Ejercicio 5_2\n",
    "Predecir fuera de la muestra"
   ]
  },
  {
   "cell_type": "code",
   "execution_count": 83,
   "id": "01d923b4",
   "metadata": {},
   "outputs": [],
   "source": [
    "# Seleccionamos las columnas de interés como en el data frame respondieron\n",
    "columnas_deseadas_21 = ['CH03', 'CH04', 'CH06', 'CH07', 'CH08', 'CH09', 'CH10', 'CH12', 'NIVEL_ED', 'CH16', 'ESTADO', 'CAT_INAC']\n",
    "no_respondieron_2 = no_respondieron[columnas_deseadas_21]\n",
    "\n",
    "# Agregamos una columna de la constante \n",
    "Xp_2 = no_respondieron_2\n",
    "Xp_2 = pd.concat([pd.Series(1, index=Xp_2.index, name='constante'), Xp_2], axis=1)"
   ]
  },
  {
   "cell_type": "code",
   "execution_count": 85,
   "id": "7d622c63",
   "metadata": {},
   "outputs": [
    {
     "name": "stdout",
     "output_type": "stream",
     "text": [
      "Proporción de personas consideradas 'pobres': 0.46806105144149235\n",
      "Proporción de personas consideradas 'no pobres': 0.5319389485585077\n"
     ]
    }
   ],
   "source": [
    "# Generamos la variable Y según el método entrenado\n",
    "Y_norespondieron_pred_2 = knn_2.predict(Xp_2)\n",
    "\n",
    "# Calcula la proporción de personas \"pobres\" y \"no pobres\"\n",
    "proporcion_pobres_2 = (Y_norespondieron_pred_2 == 1).mean()\n",
    "proporcion_no_pobres_2 = (Y_norespondieron_pred_2 == 0).mean()\n",
    "\n",
    "print(\"Proporción de personas consideradas 'pobres':\", proporcion_pobres_2)\n",
    "print(\"Proporción de personas consideradas 'no pobres':\", proporcion_no_pobres_2)\n",
    "\n"
   ]
  }
 ],
 "metadata": {
  "celltoolbar": "Raw Cell Format",
  "kernelspec": {
   "display_name": "Python 3 (ipykernel)",
   "language": "python",
   "name": "python3"
  },
  "language_info": {
   "codemirror_mode": {
    "name": "ipython",
    "version": 3
   },
   "file_extension": ".py",
   "mimetype": "text/x-python",
   "name": "python",
   "nbconvert_exporter": "python",
   "pygments_lexer": "ipython3",
   "version": "3.11.5"
  }
 },
 "nbformat": 4,
 "nbformat_minor": 5
}
