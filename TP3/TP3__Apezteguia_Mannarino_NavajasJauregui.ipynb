{
 "cells": [
  {
   "cell_type": "markdown",
   "id": "4bdb52fd",
   "metadata": {},
   "source": [
    "# Trabajo práctico 3 \n",
    "\n",
    "## Francisco Apezteguía, Valentín Mannarino, Juan Sebastián Navajas Jáuregui\n"
   ]
  },
  {
   "cell_type": "markdown",
   "id": "25d50e6c",
   "metadata": {},
   "source": [
    "# Parte I Análisis de la base de hogares y cálculo de pobreza"
   ]
  },
  {
   "cell_type": "markdown",
   "id": "3d778493",
   "metadata": {},
   "source": [
    "### Ejercicio 1 \n",
    "\n",
    "Exploramos la base y anunciamos las variables que creemos relevantes para predecir la pobreza. Para ello, utilizamos el nomenclador https://www.indec.gob.ar/ftp/cuadros/menusuperior/eph/EPH_registro_1T2023.pdf"
   ]
  },
  {
   "cell_type": "markdown",
   "id": "4884c25a",
   "metadata": {},
   "source": [
    "Resumimos las posibles variables de interés para nuestro análisis pertenecientes a la EPH de la parte de hogares:\n",
    "\n",
    "**Identificación**\n",
    "\n",
    "**CODUSU** C (29) Código para distinguir viviendas, permite aparearlas con Hogares y Personas. \n",
    "Permite hacer el seguimiento a través de los trimestres.\n",
    "\n",
    "**NRO_HOGAR** N (1) Código para distinguir Hogares. \n",
    "Permite aparearlos con Personas.\n",
    "\n",
    "**REGION** N (2) Código de región 01 = Gran Buenos Aires 40 = Noroeste\n",
    "41 = Noreste 42 = Cuyo 43 = Pampeana 44 = Patagonia.\n",
    "Será de utilidad para trabajar en la región de interés. \n",
    "\n",
    "**Carcaterísticas de la vivienda**\n",
    "\n",
    "**IV2** N (2) ¿Cuántos ambientes/habitaciones tiene la vivienda en total? (sin contar baño/s, cocina, pasillo/s, lavadero, garage). \n",
    "Tenemos el prior que un hogar más grande puede ser reflejo de una situación de no pobreza.\n",
    " \n",
    "**IV3** N (1) Estado del piso:  1. mosaico / baldosa / madera /\n",
    "cerámica / alfombra 2. cemento / ladrillo fijo 3. ladrillo suelto / tierra. \n",
    "En primera instancia creemos que las viviendas con piso de tierra/ ladrillo suelto, poseen una porbabilidad mayor a ser pobre. \n",
    "\n",
    "**V4** N (2) La cubierta exterior del techo es de... 1. membrana / cubierta asfáltica 2. baldosa / losa sin cubierta 3. pizarra / teja 4. chapa de metal sin cubierta 5. chapa de fibrocemento / plástico 6. chapa de cartón 7. saña / tabla / paja con barro / paja sola 9. N/S. Departamento en propiedad horizontal.\n",
    "Una cubierta exterior del techo cercana a una calificación mayor (exceptuando el 9) creemos que puede ser un indicio de un hogar pobre. \n",
    " \n",
    "**IV6** N (1) Tiene agua.. 1. por cañería dentro de la vivienda 2. fuera de la vivienda pero dentro del terreno 3. fuera del terreno.\n",
    "La manera en que acceden a uno de los recursos más importantes, puede ser un buen indicio de la situación del hogar. \n",
    "\n",
    "**IV8** N (1) ¿Tiene baño/letrina? 1 = Sí 2 = No\n",
    "No poseer baño puede ser un buen indicador de la pobreza del hogar, ambiente indispensable de la casa. \n",
    "\n",
    "**IV10** N (1) El baño tiene... 1. inodoro con botón / mochila /\n",
    "cadena y arrastre de agua 2. inodoro sin botón / cadena y con\n",
    "arrastre de agua (a balde) 3. letrina (sin arrastre de agua)\n",
    "En caso de poseer baño, es importante saber las condiciones en que se encuentra. \n",
    "\n",
    "**IV12_1** N (1) La vivienda está ubicada cerca de basural/es (3 cuadras o menos) 1 = Sí  2 = No\n",
    "Tenemos el prior que vivir cerca de basurales está asociado a valores de hogares bajos por las posibles enfermedades de transmisión. \n",
    "\n",
    "**IV_12_2** N (1) La vivienda está ubicada en zona inundable (en los últimos 12 meses) 1 = Sí 2 = No\n",
    "Tenemos el prior que vivir cerca de zonas inundables está asociado a valores de hogares bajos, por las destrucciones (constantes) que generan las inundaciones.\n",
    "\n",
    "**IV12_3** N (1) La vivienda está ubicada en villa de emergencia (por observación) 1 = Sí 2 = No\n",
    "Creemos que vivir en una villa de emergencia aumenta la probabilidad de que el hogar se encuentre en situación de pobreza.\n",
    "\n",
    "\n",
    "**Características habitacionales del hogar**\n",
    "\n",
    "**II1** N (2) ¿Cuántos ambientes / habitaciones tiene este hogar para su uso exclusivo?\n",
    "Creemos que la cantidad de ambientes puede dar indicios de la situación de pobreza del hogar, un hogar con un ambiente y muchas personas, tiene mayor probabilidad de ser pobre. \n",
    "\n",
    "**II7** N (2) Régimen de tenencia 01 = Propietario de la vivienda y el  terreno 02 = Propietario de la vivienda solamente 03 = Inquilino / arrendatario de la vivienda 04 = Ocupante por pago de impuestos / expensas 05 = Ocupante en relación de dependencia 06 = Ocupante gratuito (con permiso) 07 = Ocupante de hecho (sin permiso) 08 = Está en sucesión.\n",
    "Es una característica que puede ayudar a predecir la situación del hogar, las personas que son propietarias pueden tener menores probabilidades de que su hogar esté en situación de pobreza. \n",
    " \n",
    "**II8** N (1) Combustible utilizado para cocinar 01 = Gas de red 02 = Gas de tubo / garrafa 03 = Kerosene / leña / carbón.\n",
    "Poseer gas de red es un indicio de la zona en que habitas y puede ser estar correlacionado con la situación del hogar.\n",
    "\n",
    "**II9** N (1) Baño (tenencia y uso) 01 = Uso exclusivo del hogar 02 = Compartido con otro/s hogar/es de la misma vivienda 03 = Compartido con otra/s vivienda/s 04 = No tiene baño.\n",
    "Tenemos el prior que tener baño compartido con otros hogares aumenta la probabilidad de que el hogar sea pobre. \n",
    "\n",
    "**Estrategias del hogar**\n",
    "Dentro de estrategias del hogar seleccionamos las variables que creíamos que tienen un mayor poder predictivo para lograr identificar un hogar pobre. Creemos que si en los últimos 3 mees el hogar vivió a base del cobrar de un seguro de desempleo, subsidio, donaciones, préstamos o ventas de pertenencias, tiene una mayor probabilidad de encontrarse en situación de pobreza.\n",
    "¿ En los últimos tres meses, las personas de este hogar han vivido...\n",
    "\n",
    "**V1** N (1) ...de lo que ganan en el trabajo? 1 = Sí 2 = No\n",
    "\n",
    "**V2** N (1) ...de alguna jubilación o pensión? 1 = Sí 2 = No\n",
    "\n",
    "**V4** N (1) ...de seguro de desempleo? 1 = Sí 2 = No\n",
    "\n",
    "**V5** N (1) ...de subsidio o ayuda social (en dinero) del gobierno, iglesias, etc.? 1 = Sí 2 = No\n",
    "\n",
    "**V6** N (1) ...con mercaderías, ropa, alimentos gobierno, iglesias, escuelas, etc.? 1 = Sí 2 = No\n",
    "\n",
    "**V12** N (1) ...cuotas de alimentos o ayuda en dinero \n",
    "de personas que no viven en el hogar? 1 = Sí  2 = No\n",
    "\n",
    "**V14** N (1) ...pedir préstamos a familiares / amigos 1 = Sí 2 = No\n",
    "\n",
    "**V17** N (1) ¿Han tenido que vender alguna de sus pertenencias? 1 = Sí  2 = No\n",
    "\n",
    "**Resumen del hogar**\n",
    "\n",
    "**IX_TOT** N (2) Cantidad de miembros del hogar\n",
    "La relevancia de la variable viene de que los hogares en pobres, en general, son aquellos que tienen más miembros en el hogar. \n",
    "\n",
    "**Ingreso total familiar**\n",
    "\n",
    "**ITF** N (12) Monto de ingreso total familiar\n",
    "El monto de ingreso familiar puede ser un indicador rápido de saber la situación del hogar si lo comparamos con la variable (a crear) de ingreso necesario.\n",
    "\n",
    "**Ingreso per cápita familiar**\n",
    "\n",
    "**IPCF** N (12) Monto de ingreso per cápita familiar\n",
    "El ingreso per cápita familiar es otro índice rápido de poder detectar hogares en situaciones de pobreza.\n",
    "\n",
    "Estas variables se suman aquellas que utilizamos en la base individual: \n",
    "\n",
    "**CH04** N (1) Sexo 1 = Varón, 2 = Mujer\n",
    "\n",
    "**CH06** N (2) ¿Cuántos años cumplidos tiene?\n",
    "\n",
    "**CH07** N (1) ¿Actualmente está... 1 = ... unido? 2 = ... casado? 3 = ... separado/a o divorciado/a? 4 = ... viudo/a? 5 = ... soltero/a?\n",
    "\n",
    "**CH08** N (3) ¿Tiene algún tipo de cobertura médica por la que paga o le descuentan? 1 = Obra social (incluye PAMI) 2 = Mutual / prepaga / servicio de emergencia 3 = Planes y seguros públicos 4 = No paga ni le descuentan 9 = Ns/Nr 12 = Obra social y mutual / prepaga / servicio de emergencia 13 = Obra social y planes y seguros públicos 23 = Mutual / prepaga / servicio de emergencia / Planes y seguros  públicos 123 = Obra social, mutual / prepaga / servicio de emergencia y planes y  seguros públicos\n",
    "\n",
    "**CH09** N (1) ¿Sabe leer y escribir? 1 = Sí 2 = No 3 = Menor de 2 años\n",
    "\n",
    "**NIVEL_ED** N (1) Nivel educativo 1 = Primario incompleto (incluye educación especial) 2 = Primario completo\n",
    "3 = Secundario incompleto 4 = Secundario completo 5 = Superior universitario incompleto 6 = Superior universitario completo\n",
    "7 = Sin instrucción 9 = Ns/Nr\n",
    "\n",
    "**ESTADO** N (1) Condición de actividad 0 = Entrevista individual no realizada  (no respuesta al cuestionario \n",
    " individual) 1 = Ocupado 2 = Desocupado 3 = Inactivo 4 = Menor de 10 años\n",
    "\n",
    "**CAT_INAC** N (1) Categoría de inactividad 1 = Jubilado / Pensionado 2 = Rentista 3 = Estudiante 4 = Ama de casa 5 = Menor de 6 años 6 = Discapacitado 7 = Otros"
   ]
  },
  {
   "cell_type": "markdown",
   "id": "951af988",
   "metadata": {},
   "source": [
    "### Ejercicio 2\n",
    "Descargamos la base de la EPH correspondiente al primer trimestre de 2023, a nivel hogares. Trabajamos solo con la región Gran Buenos Aires"
   ]
  },
  {
   "cell_type": "code",
   "execution_count": 1,
   "id": "af86ff98",
   "metadata": {},
   "outputs": [],
   "source": [
    "# Importamos los paquetes que utilizaremos y seteamos el directorio con el que vamos a trabajar\n",
    "import pandas as pd\n",
    "import matplotlib.pyplot as plt\n",
    "import os\n",
    "os.chdir(r\"C:\\Users\\Usuario\\OneDrive - Económicas - UBA\\Valentin\\Maestria\\Optativas\\Tercer trimestre\\BIg Data\\Trabajo Práctico\\Tp3\")\n",
    "\n",
    "# Importamos la base de datos a nivel hogar\n",
    "data_eph_h = pd.read_excel(\"usu_hogar_T123.xlsx \")"
   ]
  },
  {
   "cell_type": "code",
   "execution_count": 2,
   "id": "fc8ba240",
   "metadata": {},
   "outputs": [],
   "source": [
    "# Trabajamos con las observaciones que son de la región Gran Buenos Aires\n",
    "data_eph_h=data_eph_h[data_eph_h[\"REGION\"]==1]\n",
    "data_eph_h_prueba = data_eph_h.copy()"
   ]
  },
  {
   "cell_type": "markdown",
   "id": "3c014a6c",
   "metadata": {},
   "source": [
    "### Ejercicio 3\n",
    "Importamos la base de datos individual para unirla con la de hogares."
   ]
  },
  {
   "cell_type": "code",
   "execution_count": 3,
   "id": "42a235dc",
   "metadata": {},
   "outputs": [],
   "source": [
    "# Importamos la base de datos a nivel individual\n",
    "data_eph_i = pd.read_excel(\"usu_individual_T123.xlsx \")\n",
    "\n",
    "# Trabajamos con las observaciones que son de la región Gran Buenos Aires\n",
    "data_eph_i=data_eph_i[data_eph_i[\"REGION\"]==1]"
   ]
  },
  {
   "cell_type": "code",
   "execution_count": 4,
   "id": "1793652a",
   "metadata": {},
   "outputs": [],
   "source": [
    "# En la base Hogar (archivo usu_hogar.txt) todos los hogares que pertenecen a una \n",
    "# misma vivienda poseen el mismo CODUSU. Para identificar los hogares se debe utilizar \n",
    "# CODUSU y NRO_HOGAR.\n",
    "\n",
    "# En la de base de individuos (archivo usu_individual.txt) todos los miembros del hogar tienen el \n",
    "# mismo CODUSU y NRO_HOGAR.\n",
    "\n",
    "# De esta forma, entendemos que debemos hacer el unión en base a CODUSU.\n",
    "\n",
    "# Realiza el merge, para aquellas variables repetidas se agregará un sufijo y mantendrá ambas variables\n",
    "data_eph = data_eph_h.merge(data_eph_i, on='CODUSU', how='inner')"
   ]
  },
  {
   "cell_type": "code",
   "execution_count": 5,
   "id": "ca94d7a1",
   "metadata": {},
   "outputs": [],
   "source": [
    "# Eliminamos todas las columnas que terminen con _y que son un duplicado\n",
    "data_eph = data_eph.filter(regex='^(?!.*_y$)')"
   ]
  },
  {
   "cell_type": "code",
   "execution_count": 6,
   "id": "ce7ade21",
   "metadata": {},
   "outputs": [],
   "source": [
    "# Renombra las columnas que terminan con \"_x\" eliminando la extensión\n",
    "data_eph = data_eph.rename(columns=lambda x: x.rstrip('_x'))"
   ]
  },
  {
   "cell_type": "code",
   "execution_count": 7,
   "id": "8798cded",
   "metadata": {},
   "outputs": [],
   "source": [
    "# Análizamos en un excel y generamos una copia del archivo para ver el resultado\n",
    "#nombre_archivo = \"data_eph.xlsx\"\n",
    "#data_eph.to_excel(nombre_archivo, index=False)\n",
    "#data_eph_copia = data_eph.copy()"
   ]
  },
  {
   "cell_type": "markdown",
   "id": "74f813cc",
   "metadata": {},
   "source": [
    "### Ejercicio 4 \n",
    "\n",
    "A continuación generamos funciones para realizar la limpieza de la base."
   ]
  },
  {
   "cell_type": "code",
   "execution_count": 8,
   "id": "3dc79345",
   "metadata": {},
   "outputs": [],
   "source": [
    "def eliminar_valores(base, variables):\n",
    "    '''\n",
    "    La función elimina aquellas observaciones que tengan un valor menor a cero en las variables especificadas.\n",
    "    Input:\n",
    "        base: DataFrame con los datos.\n",
    "        variables: Lista de nombres de las variables a filtrar.\n",
    "    Output:\n",
    "        DataFrame con las observaciones filtradas.\n",
    "    '''\n",
    "    # Creamos una copia del DataFrame original para hacer la limpieza\n",
    "    df_filtrado = base.copy()\n",
    "\n",
    "    # Iteramos a través de las variables y filtramoslas observaciones\n",
    "    for variable in variables:\n",
    "        df_filtrado = df_filtrado[df_filtrado[variable] >= 0]\n",
    "\n",
    "    return df_filtrado"
   ]
  },
  {
   "cell_type": "code",
   "execution_count": 9,
   "id": "8541dbd2",
   "metadata": {},
   "outputs": [],
   "source": [
    "def outliers (base, variables):\n",
    "    '''\n",
    "    La función elimina aquellas observaciones que tengan valores de ingresos superiores en 50 veces la media de la población.\n",
    "    Input:\n",
    "        base: DataFrame con los datos.\n",
    "        variables: Lista de nombres de las variables a filtrar.\n",
    "    Output:\n",
    "        DataFrame con las observaciones filtradas.\n",
    "    '''\n",
    "    # Creamos una copia del DataFrame original para hacer la limpieza\n",
    "    df_filtrado = base.copy()\n",
    "    # Iteramos a través de las variables y filtramos las observaciones\n",
    "    for variable in variables:\n",
    "        media = df_filtrado[variable].mean()  \n",
    "        limite_superior = media * 50  # Establecemos el límite superior\n",
    "        df_filtrado = df_filtrado[df_filtrado[variable] <= limite_superior]\n",
    "\n",
    "    return df_filtrado"
   ]
  },
  {
   "cell_type": "code",
   "execution_count": 10,
   "id": "be8cd7cf",
   "metadata": {},
   "outputs": [],
   "source": [
    "def eliminar_missings(base, umbral):\n",
    "    '''\n",
    "    La función elimina las columnas que tienen más valores faltantes respecto al \"umbral\".\n",
    "    Input:\n",
    "        base: DataFrame con los datos.\n",
    "        umbral: Umbral de valores faltantes permitidos.\n",
    "    Output:\n",
    "        DataFrame con las columnas eliminadas.\n",
    "    '''\n",
    "    # Creamos una copia del DataFrame original para hacer la limpieza\n",
    "    df_filtrado = base.copy()\n",
    "    # Pedimos que elimine las columnas que superen el umbral\n",
    "    columnas_a_eliminar = [columna for columna in base.columns if base[columna].isna().sum() > umbral]\n",
    "    df_filtrado = df_filtrado.drop(columnas_a_eliminar, axis=1)\n",
    "   \n",
    "    return df_filtrado"
   ]
  },
  {
   "cell_type": "code",
   "execution_count": 11,
   "id": "d17a2660",
   "metadata": {},
   "outputs": [],
   "source": [
    "def eliminar_valores_9(base, variables):\n",
    "    '''\n",
    "    La función elimina aquellas observaciones que tengan un valor mayor o igual a nueve en las variables especificadas.\n",
    "    Input:\n",
    "        base: DataFrame con los datos.\n",
    "        variables: Lista de nombres de las variables a filtrar.\n",
    "    Output:\n",
    "        DataFrame con las observaciones filtradas.\n",
    "    '''\n",
    "    # Creamos una copia del DataFrame original para hacer la limpieza\n",
    "    df_filtrado = base.copy()\n",
    "\n",
    "    # Iteramos a través de las variables y filtramos las observaciones\n",
    "    for variable in variables:\n",
    "        df_filtrado = df_filtrado[df_filtrado[variable] <= 9]\n",
    "\n",
    "    return df_filtrado"
   ]
  },
  {
   "cell_type": "markdown",
   "id": "1bfc6674",
   "metadata": {},
   "source": [
    "### Ejercicio 5 \n",
    "Limpiamos la base de datos con las funciones creadas."
   ]
  },
  {
   "cell_type": "markdown",
   "id": "9cadfe35",
   "metadata": {},
   "source": [
    "Utilizamos nuestra función del punto previo para eliminar edades o ingresos menores a cero:"
   ]
  },
  {
   "cell_type": "code",
   "execution_count": 12,
   "id": "7387d49d",
   "metadata": {},
   "outputs": [],
   "source": [
    "variables_filtro = ['ITF','IPCF', 'P21', 'P47T', 'CH06']\n",
    "data_eph = eliminar_valores (data_eph, variables_filtro)"
   ]
  },
  {
   "cell_type": "markdown",
   "id": "d953f0d1",
   "metadata": {},
   "source": [
    "Utilizamos la función creada previamente para eliminar los outliers de las variables de ingreso de nuestra base."
   ]
  },
  {
   "cell_type": "code",
   "execution_count": 13,
   "id": "43ea4972",
   "metadata": {},
   "outputs": [],
   "source": [
    "variables_filtro = ['ITF','IPCF', 'P21', 'P47T']\n",
    "data_eph = outliers (data_eph, variables_filtro)"
   ]
  },
  {
   "cell_type": "markdown",
   "id": "daff0bf2",
   "metadata": {},
   "source": [
    "Decidimos quedarnos con aquellas variables que tengan hasta un máximo de 350 valores faltantes.\n",
    "Tomamos esta decisión teniendo en mente el trade off entre la complejidad que puede tener el modelo (cantidad de variables explicativas)\n",
    "y la problemática que existe al no poder calcular modelos de predicción con valores missing. \n",
    "En caso de incluir estas variables, deberíamos sacrificar una gran cantidad de observaciones."
   ]
  },
  {
   "cell_type": "code",
   "execution_count": 14,
   "id": "86bd8683",
   "metadata": {
    "scrolled": true
   },
   "outputs": [],
   "source": [
    "umbral = 350 \n",
    "data_eph = eliminar_missings(data_eph, umbral)"
   ]
  },
  {
   "cell_type": "markdown",
   "id": "9b98eaab",
   "metadata": {},
   "source": [
    "Utilizamos la cuarta función para aquellas variables que tengan un valor mayor a 9 ya que en general este valor indica que las personas no respondieron a la pregunta de la encuesta\n",
    "Departamento en propiedad horizontal no la eliminamos porque implicaría quitar cerca del 10% de las observaciones. "
   ]
  },
  {
   "cell_type": "code",
   "execution_count": 15,
   "id": "e0029d06",
   "metadata": {},
   "outputs": [],
   "source": [
    "variables_filtro = ['II7','V1','V2','V4','V5','V6','V12','V14','V17','CH07','NIVEL_ED']\n",
    "data_eph = eliminar_valores_9 (data_eph, variables_filtro)"
   ]
  },
  {
   "cell_type": "markdown",
   "id": "67a1f6b7",
   "metadata": {},
   "source": [
    "Hacemos limpieza de algunas variables que no cumplen con los criterios establecidos por nuestras funciones. \n",
    "Por ejemplo, CH08 tiene el 9 como no respuesta pero luego tiene valores mayores que tienen asociados respuestas con utilidad. "
   ]
  },
  {
   "cell_type": "code",
   "execution_count": 16,
   "id": "9f93749c",
   "metadata": {},
   "outputs": [],
   "source": [
    "data_eph = data_eph[data_eph['CH08'] != 9]\n",
    "data_eph = data_eph[data_eph['IV2'] != 99]\n",
    "data_eph = data_eph[data_eph['II1'] != 99]\n",
    "data_eph = data_eph[data_eph['II9'] > 0]"
   ]
  },
  {
   "cell_type": "markdown",
   "id": "7dc5165d",
   "metadata": {},
   "source": [
    "A continuación, filtramos nuestra base de datos para seleccionar las variables que serán utilizadas en los siguientes ejercicios. "
   ]
  },
  {
   "cell_type": "code",
   "execution_count": 17,
   "id": "a391664e",
   "metadata": {},
   "outputs": [],
   "source": [
    "# Generamos la lista de variables de interés.\n",
    "variables_de_interes = [\n",
    "    'CODUSU',\n",
    "    'PONDIH',\n",
    "    'IV2',\n",
    "    'IV3',\n",
    "    'V4',\n",
    "    'IV6',\n",
    "    'IV8',\n",
    "    'IV10',\n",
    "    'IV12_1',\n",
    "    'IV12_2',\n",
    "    'IV12_3',\n",
    "    'II1',\n",
    "    'II7',\n",
    "    'II8',\n",
    "    'II9',\n",
    "    'V1',\n",
    "    'V2',\n",
    "    'V4',\n",
    "    'V5',\n",
    "    'V6',\n",
    "    'V12',\n",
    "    'V14',\n",
    "    'V17',\n",
    "    'ITF',\n",
    "    'IX_TOT',\n",
    "    'IPCF',\n",
    "    'P47T',\n",
    "    'CH04',\n",
    "    'CH06',\n",
    "    'CH07',\n",
    "    'CH08',\n",
    "    'CH09',\n",
    "    'NIVEL_ED',\n",
    "    'ESTADO',\n",
    "    'CAT_INAC'\n",
    "]\n"
   ]
  },
  {
   "cell_type": "code",
   "execution_count": 18,
   "id": "248765da",
   "metadata": {},
   "outputs": [],
   "source": [
    "# Nos quedamos con las variables de interés\n",
    "data_eph = data_eph[variables_de_interes]"
   ]
  },
  {
   "cell_type": "code",
   "execution_count": 19,
   "id": "66c49c05",
   "metadata": {
    "scrolled": true
   },
   "outputs": [
    {
     "name": "stdout",
     "output_type": "stream",
     "text": [
      "CODUSU       object\n",
      "PONDIH        int64\n",
      "IV2           int64\n",
      "IV3           int64\n",
      "V4            int64\n",
      "V4            int64\n",
      "IV6           int64\n",
      "IV8           int64\n",
      "IV10          int64\n",
      "IV12_1        int64\n",
      "IV12_2        int64\n",
      "IV12_3        int64\n",
      "II1           int64\n",
      "II7           int64\n",
      "II8           int64\n",
      "II9           int64\n",
      "V1            int64\n",
      "V2            int64\n",
      "V4            int64\n",
      "V4            int64\n",
      "V5            int64\n",
      "V6            int64\n",
      "V12           int64\n",
      "V14           int64\n",
      "V17           int64\n",
      "ITF           int64\n",
      "IX_TOT        int64\n",
      "IPCF        float64\n",
      "P47T        float64\n",
      "CH04          int64\n",
      "CH06          int64\n",
      "CH07          int64\n",
      "CH08        float64\n",
      "CH09          int64\n",
      "NIVEL_ED      int64\n",
      "ESTADO        int64\n",
      "CAT_INAC      int64\n",
      "dtype: object\n"
     ]
    }
   ],
   "source": [
    "# Obtenemos los tipos de variables en la lista\n",
    "tipos_variables = data_eph[variables_de_interes].dtypes\n",
    "\n",
    "# Mostrar los tipos de variables\n",
    "print(tipos_variables)"
   ]
  },
  {
   "cell_type": "markdown",
   "id": "c7f1d6df",
   "metadata": {},
   "source": [
    "No observamos variables categóricas o strings que debamos modificar."
   ]
  },
  {
   "cell_type": "markdown",
   "id": "0dbb987a",
   "metadata": {},
   "source": [
    "### Ejercicio 6\n",
    "Presentamos estadísticas descriptivas de cinco variables de la encuesta hogar que creemos que pueden ser relevantes para predecir la pobreza.\n",
    "\n",
    "**IV3** Piso interior de la casa. Tener un piso de tierra puede ser muy influyente en la situación del hogar. Cuanto mayor sea el valor de esta variable, menor será la calidad del piso del interior de la casa. \n",
    "\n",
    "**IV6** Forma de conseguir agua. La manera de acceder a un recurso tan importante puede indicarte la situación del hogar. Cuanto mayor sea la variable, mayor es el esfuerzo diario que la persona debe hacer para tener acceso al agua. \n",
    "\n",
    "**IV8** Tiene baño. La no posibilidad de tener un baño, puede ser un buen indicador para analizar la situación del hogar. Es un una dummie que toma valor 1 si la persona tiene baño y 2 si no tiene acceso. \n",
    "\n",
    "**IX_TOT** Cantidad de habitantes. Tal como explicamos anteriormente, sabemos que los hogares pobres suelen tener una mayor cantidad de habitantes.\n",
    "\n",
    "**IPCF** Monto de ingreso per cápita familiar. El ingreso per cápita familiar es un buen reflejo de la situaciones de los indiviudos dentro del hogar. "
   ]
  },
  {
   "cell_type": "code",
   "execution_count": 20,
   "id": "2190a0e8",
   "metadata": {},
   "outputs": [
    {
     "data": {
      "text/html": [
       "<div>\n",
       "<style scoped>\n",
       "    .dataframe tbody tr th:only-of-type {\n",
       "        vertical-align: middle;\n",
       "    }\n",
       "\n",
       "    .dataframe tbody tr th {\n",
       "        vertical-align: top;\n",
       "    }\n",
       "\n",
       "    .dataframe thead th {\n",
       "        text-align: right;\n",
       "    }\n",
       "</style>\n",
       "<table border=\"1\" class=\"dataframe\">\n",
       "  <thead>\n",
       "    <tr style=\"text-align: right;\">\n",
       "      <th></th>\n",
       "      <th>count</th>\n",
       "      <th>mean</th>\n",
       "      <th>std</th>\n",
       "      <th>min</th>\n",
       "      <th>25%</th>\n",
       "      <th>50%</th>\n",
       "      <th>75%</th>\n",
       "      <th>max</th>\n",
       "    </tr>\n",
       "  </thead>\n",
       "  <tbody>\n",
       "    <tr>\n",
       "      <th>IV3</th>\n",
       "      <td>5987.0</td>\n",
       "      <td>1.134625</td>\n",
       "      <td>0.359932</td>\n",
       "      <td>1.0</td>\n",
       "      <td>1.0</td>\n",
       "      <td>1.00</td>\n",
       "      <td>1.0</td>\n",
       "      <td>4.0</td>\n",
       "    </tr>\n",
       "    <tr>\n",
       "      <th>IV6</th>\n",
       "      <td>5987.0</td>\n",
       "      <td>1.029898</td>\n",
       "      <td>0.179862</td>\n",
       "      <td>1.0</td>\n",
       "      <td>1.0</td>\n",
       "      <td>1.00</td>\n",
       "      <td>1.0</td>\n",
       "      <td>3.0</td>\n",
       "    </tr>\n",
       "    <tr>\n",
       "      <th>IV8</th>\n",
       "      <td>5987.0</td>\n",
       "      <td>1.002171</td>\n",
       "      <td>0.046551</td>\n",
       "      <td>1.0</td>\n",
       "      <td>1.0</td>\n",
       "      <td>1.00</td>\n",
       "      <td>1.0</td>\n",
       "      <td>2.0</td>\n",
       "    </tr>\n",
       "    <tr>\n",
       "      <th>IX_TOT</th>\n",
       "      <td>5987.0</td>\n",
       "      <td>3.778854</td>\n",
       "      <td>1.892147</td>\n",
       "      <td>1.0</td>\n",
       "      <td>2.0</td>\n",
       "      <td>4.00</td>\n",
       "      <td>5.0</td>\n",
       "      <td>13.0</td>\n",
       "    </tr>\n",
       "    <tr>\n",
       "      <th>IPCF</th>\n",
       "      <td>5987.0</td>\n",
       "      <td>58359.319058</td>\n",
       "      <td>78014.010937</td>\n",
       "      <td>0.0</td>\n",
       "      <td>0.0</td>\n",
       "      <td>37333.33</td>\n",
       "      <td>79000.0</td>\n",
       "      <td>980000.0</td>\n",
       "    </tr>\n",
       "  </tbody>\n",
       "</table>\n",
       "</div>"
      ],
      "text/plain": [
       "         count          mean           std  min  25%       50%      75%  \\\n",
       "IV3     5987.0      1.134625      0.359932  1.0  1.0      1.00      1.0   \n",
       "IV6     5987.0      1.029898      0.179862  1.0  1.0      1.00      1.0   \n",
       "IV8     5987.0      1.002171      0.046551  1.0  1.0      1.00      1.0   \n",
       "IX_TOT  5987.0      3.778854      1.892147  1.0  2.0      4.00      5.0   \n",
       "IPCF    5987.0  58359.319058  78014.010937  0.0  0.0  37333.33  79000.0   \n",
       "\n",
       "             max  \n",
       "IV3          4.0  \n",
       "IV6          3.0  \n",
       "IV8          2.0  \n",
       "IX_TOT      13.0  \n",
       "IPCF    980000.0  "
      ]
     },
     "execution_count": 20,
     "metadata": {},
     "output_type": "execute_result"
    }
   ],
   "source": [
    "from sklearn.preprocessing import StandardScaler\n",
    "variables = data_eph[['IV3', 'IV6', 'IV8', 'IX_TOT', 'IPCF']]\n",
    "variables.describe().T"
   ]
  },
  {
   "cell_type": "markdown",
   "id": "46460c33",
   "metadata": {},
   "source": [
    "### Ejercicio 7\n",
    "Agregamos a nuestra base los valores de adultos equivalente"
   ]
  },
  {
   "cell_type": "code",
   "execution_count": 21,
   "id": "91870ead",
   "metadata": {},
   "outputs": [],
   "source": [
    "# Nota: modificamos la tabla para que a cada edad desde 0 hasta 99 años se corresponda, según su sexo, con la proporción del adulto equivalente\n",
    "# Importamos la base de datos con la que trabajaremos la cual se adjunta en GitHub. \n",
    "data_equiv = pd.read_excel(\"tabla_adulto_equiv.xlsx\")"
   ]
  },
  {
   "cell_type": "code",
   "execution_count": 22,
   "id": "bf1124fe",
   "metadata": {},
   "outputs": [],
   "source": [
    "# Definimos una función lógica para que dentro de data_eph en caso que la persona sea un hombre (CH04=1) se asigne el valor \n",
    "# de la variable Varones dentro de la base de datos de adulto equivalente, haciendo coincidir la edad en data_eph con la de\n",
    "# la variable Edad dentro de la base de datos de adulto equivalente. Realizamos el mismo procedimiento para las mujeres\n",
    "data_eph['adulto_equiv'] = None\n",
    "def assign_data_equiv(row):\n",
    "    if row['CH04'] == 1:\n",
    "        return data_equiv.loc[data_equiv['Edad'] == row['CH06'], 'Varones'].values[0]\n",
    "    elif row['CH04'] == 2:\n",
    "        return data_equiv.loc[data_equiv['Edad'] == row['CH06'], 'Mujeres'].values[0]\n",
    "    else:\n",
    "        return None\n",
    "\n",
    "# Luego, realizamos este procedimiento para todas las filas de nuestra base de datos\n",
    "data_eph['adulto_equiv'] = data_eph.apply(assign_data_equiv, axis=1)"
   ]
  },
  {
   "cell_type": "code",
   "execution_count": 23,
   "id": "9c9210da",
   "metadata": {
    "scrolled": true
   },
   "outputs": [
    {
     "name": "stdout",
     "output_type": "stream",
     "text": [
      "Cantidad de valores faltantes en la columna 'adulto_equiv': 0\n",
      "count    5987.000000\n",
      "mean        0.799758\n",
      "std         0.152924\n",
      "min         0.370000\n",
      "25%         0.690000\n",
      "50%         0.770000\n",
      "75%         1.000000\n",
      "max         1.040000\n",
      "Name: adulto_equiv, dtype: float64\n"
     ]
    }
   ],
   "source": [
    "# Imprimimos un resumen de nuestra variable creada para chequear que no tengamos valores raros o missing values\n",
    "resumen_adulto = data_eph['adulto_equiv'].describe() \n",
    "missing_values_in_adulto_equiv = data_eph['adulto_equiv'].isnull().sum()\n",
    "\n",
    "print(\"Cantidad de valores faltantes en la columna 'adulto_equiv':\", missing_values_in_adulto_equiv)\n",
    "print(resumen_adulto)       "
   ]
  },
  {
   "cell_type": "code",
   "execution_count": 24,
   "id": "5f5bd7ca",
   "metadata": {},
   "outputs": [],
   "source": [
    "# Por último, creamos la nueva variable adulto_equiv_hog que le asigna la suma de adultos equivalentes en el hogar a cada observación\n",
    "data_eph['ad_equiv_hogar'] = data_eph.groupby('CODUSU')['adulto_equiv'].transform('sum')"
   ]
  },
  {
   "cell_type": "markdown",
   "id": "65a9c992",
   "metadata": {},
   "source": [
    "### Ejercicio 8\n",
    "Reporte del ingreso total familiar\n",
    "\n",
    "Nota: en nuestro código, ya hemos eliminado algunas observaciones que presentaban un ns/nr en la variable indicativa del ingreso personal (P47T). En general, estas observaciones también tenían también un valor igual a 0 en la variable ingreso total familiar. \n",
    "\n",
    "Buscamos el ingreso necesario a nivel familiar para no ser pobre para aquellos grupos de personas que respondieron el ingreso total familiar"
   ]
  },
  {
   "cell_type": "code",
   "execution_count": 25,
   "id": "48e1bf2d",
   "metadata": {},
   "outputs": [
    {
     "name": "stdout",
     "output_type": "stream",
     "text": [
      "La cantidad de personas que no respondieron cuál es su ingreso total familiar es igual a 1793\n"
     ]
    }
   ],
   "source": [
    "# Contamos la cantidad de veces que la variable Ingreso Total Familiar (ITF) es igual a 0\n",
    "count_IFT0 = (data_eph['ITF'] == 0).sum()\n",
    "\n",
    "print(f\"La cantidad de personas que no respondieron cuál es su ingreso total familiar es igual a {count_IFT0}\")"
   ]
  },
  {
   "cell_type": "code",
   "execution_count": 26,
   "id": "5a5ab751",
   "metadata": {},
   "outputs": [],
   "source": [
    "# Creamos un DataFrame llamado \"respondieron\" con las observaciones donde la variable Ingreso total familiar es mayor que 0\n",
    "respondieron = data_eph[data_eph['ITF'] > 0]\n",
    "\n",
    "# Creamos un DataFrame llamado \"no_respondieron\" con las observaciones donde la variable Ingreso total familiar  es igual a 0\n",
    "no_respondieron = data_eph[data_eph['ITF'] == 0]"
   ]
  },
  {
   "cell_type": "code",
   "execution_count": 27,
   "id": "45a5238d",
   "metadata": {
    "scrolled": true
   },
   "outputs": [
    {
     "name": "stderr",
     "output_type": "stream",
     "text": [
      "C:\\Users\\Usuario\\AppData\\Local\\Temp\\ipykernel_5288\\2610509039.py:2: SettingWithCopyWarning: \n",
      "A value is trying to be set on a copy of a slice from a DataFrame.\n",
      "Try using .loc[row_indexer,col_indexer] = value instead\n",
      "\n",
      "See the caveats in the documentation: https://pandas.pydata.org/pandas-docs/stable/user_guide/indexing.html#returning-a-view-versus-a-copy\n",
      "  respondieron['ingreso_necesario'] = respondieron['ad_equiv_hogar'] * 57371.05\n"
     ]
    }
   ],
   "source": [
    "# Agregamos la variable \"ingreso_necesario\" al DataFrame \"respondieron\" según el criterio específicado en la consigna\n",
    "respondieron['ingreso_necesario'] = respondieron['ad_equiv_hogar'] * 57371.05\n",
    "#respondieron.loc[:, 'ingreso_necesario'] = respondieron['ad_equiv_hogar'] * 57371.05\n"
   ]
  },
  {
   "cell_type": "markdown",
   "id": "8c94a316",
   "metadata": {},
   "source": [
    "### Ejercicio 9\n",
    "Agregamos a la base respondieron una columna llamada pobre, que toma valor 1 si el ITF es menor al ingreso necesario"
   ]
  },
  {
   "cell_type": "code",
   "execution_count": 28,
   "id": "839aff94",
   "metadata": {
    "scrolled": true
   },
   "outputs": [
    {
     "name": "stderr",
     "output_type": "stream",
     "text": [
      "C:\\Users\\Usuario\\AppData\\Local\\Temp\\ipykernel_5288\\2159865694.py:3: SettingWithCopyWarning: \n",
      "A value is trying to be set on a copy of a slice from a DataFrame.\n",
      "Try using .loc[row_indexer,col_indexer] = value instead\n",
      "\n",
      "See the caveats in the documentation: https://pandas.pydata.org/pandas-docs/stable/user_guide/indexing.html#returning-a-view-versus-a-copy\n",
      "  respondieron.loc[:,'pobre'] = (respondieron['ITF'] <= respondieron['ingreso_necesario']).astype(int)\n"
     ]
    }
   ],
   "source": [
    "# Ahora agregamos la variable pobre, según si cumple la condición de que el ingreso familiar total para cada individuo es menor \n",
    "# al necesario para cubrir la canasta básica total (CBT)\n",
    "respondieron.loc[:,'pobre'] = (respondieron['ITF'] <= respondieron['ingreso_necesario']).astype(int)"
   ]
  },
  {
   "cell_type": "code",
   "execution_count": 29,
   "id": "fbd771b4",
   "metadata": {},
   "outputs": [
    {
     "name": "stdout",
     "output_type": "stream",
     "text": [
      "La cantidad de pobres en la muestra es de 1609\n",
      "El porcentaje de pobres de la muestra es de 38.36%\n"
     ]
    }
   ],
   "source": [
    "# Finalmente, contamos la cantidad de individuos que pueden ser considerados pobres\n",
    "cantidad_de_pobres = respondieron['pobre'].sum()\n",
    "total_observaciones = len(respondieron)\n",
    "porcentaje_pobres = (cantidad_de_pobres / total_observaciones) * 100\n",
    "print(f\"La cantidad de pobres en la muestra es de {cantidad_de_pobres}\")\n",
    "print(f\"El porcentaje de pobres de la muestra es de {porcentaje_pobres:.2f}%\")"
   ]
  },
  {
   "cell_type": "markdown",
   "id": "69adc115",
   "metadata": {},
   "source": [
    "### Ejercicio 10\n",
    "En este ejercicio utilizaremos el ponderador PONDIH para estimar la cantidad de hogares pobres en el Gran Buenos Aires"
   ]
  },
  {
   "cell_type": "code",
   "execution_count": 30,
   "id": "929448a7",
   "metadata": {},
   "outputs": [],
   "source": [
    "# Agrupamos los datos por el código del hogar (CODUSU)\n",
    "data_eph_agrupada = respondieron.groupby('CODUSU').first().reset_index()\n"
   ]
  },
  {
   "cell_type": "markdown",
   "id": "499b591e",
   "metadata": {},
   "source": [
    "Creamos la variable \"ponde_pobre\" que se forma como la multiplicación del estado de ese hogar por la cantidad que pondera (PONDIH), de manera tal, que si sumamos este ponderador nos daría la cantidad de pobres. Para obtener la proporción, lo dividimos por la sumatoria de PONDIH. \n"
   ]
  },
  {
   "cell_type": "code",
   "execution_count": 31,
   "id": "64386dfb",
   "metadata": {},
   "outputs": [
    {
     "name": "stdout",
     "output_type": "stream",
     "text": [
      "La cantidad de pobres en la muestra es de 1.524.503\n",
      "El porcentaje de pobres de la muestra es de 28.87%\n"
     ]
    }
   ],
   "source": [
    "data_eph_agrupada['ponde_pobre'] = data_eph_agrupada['PONDIH'] * data_eph_agrupada['pobre']\n",
    "cantidad_de_pobres = data_eph_agrupada['ponde_pobre'].sum()\n",
    "total_poblacion = data_eph_agrupada['PONDIH'].sum()\n",
    "porcentaje_pobres = (cantidad_de_pobres / total_poblacion) * 100\n",
    "cantidad_de_pobres_formateada = '{:,}'.format(cantidad_de_pobres).replace(',', '.')\n",
    "print(f\"La cantidad de pobres en la muestra es de {cantidad_de_pobres_formateada}\")\n",
    "print(f\"El porcentaje de pobres de la muestra es de {porcentaje_pobres:.2f}%\")"
   ]
  },
  {
   "cell_type": "markdown",
   "id": "d4bc01f8",
   "metadata": {},
   "source": [
    "En este caso, el informe del INDEC indica que los hogares en situación de pobreza para Buenos Aires y el Gran Buenos Aires es igual al 30,3. Este valor es similar al calculado por nosotros. "
   ]
  },
  {
   "cell_type": "markdown",
   "id": "ca92bc96",
   "metadata": {},
   "source": [
    "Guardamos para trabjar después una copia de la base repsondieron y no repsondieron."
   ]
  },
  {
   "cell_type": "code",
   "execution_count": 32,
   "id": "84d19398",
   "metadata": {},
   "outputs": [],
   "source": [
    "respondieron_copia = respondieron.copy()\n",
    "no_respondieron_copia = no_respondieron.copy()"
   ]
  }
 ],
 "metadata": {
  "celltoolbar": "Raw Cell Format",
  "kernelspec": {
   "display_name": "Python 3 (ipykernel)",
   "language": "python",
   "name": "python3"
  },
  "language_info": {
   "codemirror_mode": {
    "name": "ipython",
    "version": 3
   },
   "file_extension": ".py",
   "mimetype": "text/x-python",
   "name": "python",
   "nbconvert_exporter": "python",
   "pygments_lexer": "ipython3",
   "version": "3.11.5"
  }
 },
 "nbformat": 4,
 "nbformat_minor": 5
}
