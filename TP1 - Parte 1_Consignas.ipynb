{
 "cells": [
  {
   "cell_type": "markdown",
   "metadata": {
    "collapsed": true,
    "id": "Dh8MkXaG-c9Y"
   },
   "source": [
    "# Curso de Big Data\n",
    "\n",
    "## Trabajo Práctico 1 - Parte 1 "
   ]
  },
  {
   "cell_type": "markdown",
   "metadata": {},
   "source": [
    "### Alumnos:\n",
    "Apezteguia - Mannarino - Navajas Jauregui"
   ]
  },
  {
   "cell_type": "markdown",
   "metadata": {
    "id": "RhBlm6mZ-c9e"
   },
   "source": [
    "### Reglas de formato y presentación\n",
    "- El trabajo debe estar bien comentado (utilizando #) para que el código sea fácil de entender por sus compañeros y profesores.\n",
    "\n",
    "- El mismo debe ser completado en este Jupyter Notebook y entregado como tal, es decir en un archivo .ipynb\n"
   ]
  },
  {
   "cell_type": "markdown",
   "metadata": {
    "id": "ZEjGaa4U-c9g"
   },
   "source": [
    "### Fecha de entrega:\n",
    "Miércoles 4 de octubre a las 23:59hs"
   ]
  },
  {
   "cell_type": "markdown",
   "metadata": {
    "id": "N9TU2y7E-c9h"
   },
   "source": [
    "### Modalidad de entrega\n",
    "- Al finalizar el trabajo práctico deben hacer un último <i>commit</i> en su repositorio de GitHub con el mensaje “Entrega final del tp”. \n",
    "- Asegurense de haber creado una carpeta llamada TP1. Este Jupyter Notebook y el correspondiente al TP1 - Parte 2 deben estar dentro de esa carpeta.\n",
    "- También deben completar el link de su repositorio -para que pueda ser clonado y corregido- en la siguiente google sheet: https://docs.google.com/spreadsheets/d/11nJY1Frgla45sTgsPiSeOZM9iBM-XRWh/edit?usp=sharing&ouid=105815768529474116534&rtpof=true&sd=true\n",
    "- La última versión en el repositorio es la que será evaluada. Por lo que es importante que: \n",
    "    - No completen la google sheet hasta no haber terminado y estar seguros de que han hecho el <i>commit y push</i> a la versión final que quieren entregar. Debido a que se pueden tomar hasta 3 días de extensión a lo largo del curso, no se  corregirán sus tareas hasta no ver el link en la google sheet.\n",
    "    - No hagan nuevos <i>push</i> despues de haber entregado su versión final. Esto generaría confusión acerca de que versión es la que quieren que se les corrija. "
   ]
  },
  {
   "cell_type": "markdown",
   "metadata": {
    "id": "ZXbrPraa-c9i"
   },
   "source": [
    "#### Ejercicio 1\n",
    "Este ejercicio simplemente busca repasar lo que aprendimos sobre definición de variables. Definir dos variables con un nombre combinado (al menos dos palabras), una que se pueda crear y otra que tenga un nombre inaceptable (genera error). Explicar por qué ocurre el error."
   ]
  },
  {
   "cell_type": "code",
   "execution_count": 1,
   "metadata": {
    "id": "mb7PkXfN-c9j"
   },
   "outputs": [
    {
     "ename": "SyntaxError",
     "evalue": "invalid decimal literal (2691703088.py, line 8)",
     "output_type": "error",
     "traceback": [
      "\u001b[1;36m  Cell \u001b[1;32mIn[1], line 8\u001b[1;36m\u001b[0m\n\u001b[1;33m    2variable_4 = \"No puede comenzar con un número\"\u001b[0m\n\u001b[1;37m    ^\u001b[0m\n\u001b[1;31mSyntaxError\u001b[0m\u001b[1;31m:\u001b[0m invalid decimal literal\n"
     ]
    }
   ],
   "source": [
    "# Caso A. Definimos una variable string concatenada. \"Bienvenidos + al trabajo práctico de Big Data\".\n",
    "variable_1 = \"Bienvenidos\"\n",
    "variable_2 = \" al trabajo práctico de Big Data\"\n",
    "variable_3 = (variable_1) + (variable_2)\n",
    "print (variable_3)\n",
    "\n",
    "# Caso B. Mostramos dos casos donde no podes crear las variables.  \n",
    "2variable_4 = \"No puede comenzar con un número\"\n",
    "variable-5 = \"No se pueden definir variables con espacios o - se debe usar_\""
   ]
  },
  {
   "cell_type": "markdown",
   "metadata": {},
   "source": [
    "#### Ejercicio 2\n",
    "Importar módulos. Usando el módulo math impriman la tangente de 1. ¿Cuál es el resultado?\n",
    "Hagan este cálculo de dos formas: primero importando el módulo math y usando la función correspondiente y luego solo importando la función específica que precisan para el cálculo."
   ]
  },
  {
   "cell_type": "code",
   "execution_count": 21,
   "metadata": {},
   "outputs": [
    {
     "name": "stdout",
     "output_type": "stream",
     "text": [
      "1.5574077246549023\n",
      "1.5574077246549023\n"
     ]
    }
   ],
   "source": [
    "# Primero importamos el módulo math.\n",
    "import math\n",
    "# Caso A. En este caso llamamos al módulo mediante math. y solicitamos la función tan (tangente).\n",
    "print(math.tan(1))\n",
    "# Caso B. En este caso importamos la función específica del módulo.\n",
    "from math import tan\n",
    "tan_1 = tan(1)\n",
    "print (tan_1)\n"
   ]
  },
  {
   "cell_type": "markdown",
   "metadata": {
    "id": "GlNh0fyv-c9l"
   },
   "source": [
    "#### Ejercicio 3 \n",
    "Este ejercicio trata sobre lograr el intercambio de valores entre dos variables utilizando una variable temporal para hacerlo. Las variables temporales y la sustitución de valores termina siendo útil en algunos loops. Los pasos a seguir son: (a) definir variables A y B (cuyos valores buscaremos invertir); (b) definir una variable temporal que resguarde el valor de B; (c) sustitución (asignar B igual a A y también A igual al valor original de B); (d) imprimir valores para verificar."
   ]
  },
  {
   "cell_type": "code",
   "execution_count": 28,
   "metadata": {
    "id": "uWalSYFC-c9m"
   },
   "outputs": [
    {
     "name": "stdout",
     "output_type": "stream",
     "text": [
      "7\n",
      "0\n",
      "0\n",
      "7\n"
     ]
    }
   ],
   "source": [
    "\n",
    "# a) Definir variables A y B. Mostramos que haciendo print en el orden a - b arroja 7 - 0.\n",
    "a = 7\n",
    "b = 0\n",
    "print (a)\n",
    "print (b)\n",
    "\n",
    "# b) Definir variable temporal \"tmp\" igual a B (la variable, no el valor).\n",
    "tmp = b\n",
    "\n",
    "# c) Ahora sustituir variables: variable B igual a variable A (la variable, no el\n",
    "# valor) y viceversa.\n",
    "b = a\n",
    "a = tmp \n",
    "\n",
    "# d) Verifiquemos resultados: imprimir variables A y B. Motramos que haciendo print en el orden a - b arroja 0 - 7.\n",
    "\n",
    "print(a)\n",
    "print(b)"
   ]
  },
  {
   "cell_type": "markdown",
   "metadata": {
    "id": "wXhAaRyN-c9p"
   },
   "source": [
    "#### Ejercicio 4\n",
    "En este ejercicio se busca poner en práctica el uso de range() en un for loop. \n",
    "\n",
    "Construir un for loop usando un range(). El range debe ser entre los valores que quieran (con una diferencia mínima de 15 entre start y stop), en incrementos de 3 unidades. Dentro del loop, implementar una sentencia condicional que imprima una leyenda indicando si el input es par o impar."
   ]
  },
  {
   "cell_type": "code",
   "execution_count": 30,
   "metadata": {
    "id": "_oE5sG0c-c9q"
   },
   "outputs": [
    {
     "name": "stdout",
     "output_type": "stream",
     "text": [
      "2 par\n",
      "5 impar\n",
      "8 par\n",
      "11 impar\n",
      "14 par\n",
      "17 impar\n",
      "20 par\n",
      "23 impar\n",
      "26 par\n",
      "29 impar\n",
      "32 par\n"
     ]
    }
   ],
   "source": [
    "# Definimos los valores para el comienzo y final del loop.\n",
    "start = 2\n",
    "finish = 35\n",
    "\n",
    "# Construimos el loop, con incremento de 3 unidades.\n",
    "for numero in range(start, finish, 3):\n",
    "    # Comprobamos si el número es par, si dividido 2 da 0. \n",
    "    if numero % 2 == 0:\n",
    "        print(numero, \"par\")\n",
    "    # Si no cumpe la primera condición es impar.\n",
    "    else:\n",
    "        print(numero, \"impar\")\n"
   ]
  },
  {
   "cell_type": "markdown",
   "metadata": {
    "id": "h3g5bXUB-c9u"
   },
   "source": [
    "#### Ejercicio 5\n",
    "Para practicar el uso de condiciones lógicas y la definición de funciones, construir una función con una sentencia condicional que verifique si un año es bisiesto o no. Para que un año sea bisiesto debe cumplir una de dos condiciones:\n",
    "\n",
    "(a) que sea divisible por 400; o\n",
    "\n",
    "(b) que sea divisible por 4 y no sea divisible por 100\n",
    "\n",
    "Notar que son dos condiciones, donde la segunda condición tiene dos componentes. Prueben la función con 3 valores para verificar que funcione."
   ]
  },
  {
   "cell_type": "code",
   "execution_count": 35,
   "metadata": {
    "id": "7_MnILdz-c9v"
   },
   "outputs": [
    {
     "name": "stdout",
     "output_type": "stream",
     "text": [
      "2001 es bisiesto: False\n",
      "2002 es bisiesto: False\n",
      "2003 es bisiesto: False\n",
      "2004 es bisiesto: True\n"
     ]
    }
   ],
   "source": [
    "# Usamos def y el nombre de la función:\n",
    "def bisiesto(ano):\n",
    "    # Verificar que sea divisible por 400 o divisible por 4 y no por 100.\n",
    "    if (ano % 400 == 0) or ((ano % 4 == 0) and (ano % 100 != 0)):\n",
    "        return True\n",
    "    # Si no cumple, devuelva false. \n",
    "    else:\n",
    "        return False\n",
    "\n",
    "# Vamos a definir una secuencia de años para saber cuál es bisiesto.\n",
    "ano1 = 2001\n",
    "ano2 = 2002\n",
    "ano3 = 2003\n",
    "ano4 = 2004\n",
    "\n",
    "# Aplicamos la función:\n",
    "print(f\"{ano1} es bisiesto: {bisiesto(ano1)}\")\n",
    "print(f\"{ano2} es bisiesto: {bisiesto(ano2)}\")\n",
    "print(f\"{ano3} es bisiesto: {bisiesto(ano3)}\")\n",
    "print(f\"{ano4} es bisiesto: {bisiesto(ano4)}\")\n",
    "\n"
   ]
  },
  {
   "cell_type": "markdown",
   "metadata": {
    "collapsed": true,
    "id": "P3a7bJkd-c9w"
   },
   "source": [
    "#### Ejercicio 6 \n",
    "Pongamos en práctica identificar el type() de cada variable. A continuación tenemos una lista con elementos de diferentes tipos. Construyan un for loop que itere sobre la lista e imprima un cartel indicando el tipo de dato u objeto que hay en cada caso."
   ]
  },
  {
   "cell_type": "code",
   "execution_count": 37,
   "metadata": {
    "id": "jDf4d_Wr-c9w"
   },
   "outputs": [],
   "source": [
    "mi_lista = [10, 34.5, 99999, 'abc', [1,2,3], ('ARG', 1810), {'pob': 45}, True]"
   ]
  },
  {
   "cell_type": "code",
   "execution_count": 41,
   "metadata": {
    "id": "SAJgEiNEFQAS"
   },
   "outputs": [
    {
     "name": "stdout",
     "output_type": "stream",
     "text": [
      " 10 es : <class 'int'>\n",
      " 34.5 es : <class 'float'>\n",
      " 99999 es : <class 'int'>\n",
      " abc es : <class 'str'>\n",
      " [1, 2, 3] es : <class 'list'>\n",
      " ('ARG', 1810) es : <class 'tuple'>\n",
      " {'pob': 45} es : <class 'dict'>\n",
      " True es : <class 'bool'>\n"
     ]
    }
   ],
   "source": [
    "# Creamos un loop donde queremos visualizar que elemento hay dentro de la mi_lista. Definimos tipo usando la función type. \n",
    "# Luego, realizamos una impresión con el valor y que tipo es: \n",
    "for elemento in mi_lista:\n",
    "    tipo = type (elemento)\n",
    "    print(f\" {elemento} es : {tipo}\" )"
   ]
  },
  {
   "cell_type": "markdown",
   "metadata": {
    "id": "y1lncitl-c9x"
   },
   "source": [
    "#### Ejercicio 7\n",
    "Ahora definan ustedes una nueva lista, en la que los primeros cuatro elementos sean palabras (strings), el quinto elemento no sea string, y el sexto sea string. Construyan un for loop que corra por la lista y que imprima la palabra y la longitud de la misma. Que el loop contenga una sentencia condicional que imprima un cartel \"Elemento no es un string: < el elemento > | < class del elemento >\" para los casos dónde el elemento evaluado no sea string."
   ]
  },
  {
   "cell_type": "code",
   "execution_count": 2,
   "metadata": {
    "id": "bFOk9Os0-c9x",
    "scrolled": true
   },
   "outputs": [
    {
     "name": "stdout",
     "output_type": "stream",
     "text": [
      " Estamos, Longitud: 7\n",
      " realizando, Longitud: 10\n",
      " el, Longitud: 2\n",
      " tp, Longitud: 2\n",
      "No es un string: 10.0 | <class 'float'>\n",
      " nota, Longitud: 4\n"
     ]
    }
   ],
   "source": [
    "# Comenzamos realizando la lista:\n",
    "lista = [\"Estamos\", \"realizando\", \"el\", \"tp\", 10.0, \"nota\"]\n",
    "# Realizamos el loop:\n",
    "for elemento in lista:\n",
    "    # Hacemos la comprobación lógica con isinstance, donde primero se llama al elemento, y luego que tipo queres que corrobore.\n",
    "    if isinstance(elemento, str):  \n",
    "        # Para saber la longitud utilizamos len\n",
    "        print(f\" {elemento}, Longitud: {len(elemento)}\")\n",
    "        # Si no cumple la condición (no string) que diga el tipo que es.\n",
    "    else:\n",
    "        print(f\"No es un string: {elemento} | {type(elemento)}\")"
   ]
  },
  {
   "cell_type": "markdown",
   "metadata": {
    "id": "PUpxDz72-c9x"
   },
   "source": [
    "#### Ejercicio 8\n",
    "Argentina tiene una representación legislativa proporcional en la cual la cantidad de diputados se debería ajustar según el tamaño de población de cada provincia. Otra característica de la representación legislativa del país es que hay una cantidad mínima de diputados por provincia (5). Esto genera un desbalance en la cantidad de ciudadanos por cada representante en el Congreso entre provincias.\n",
    "\n",
    "A continuación preparamos algunos ejemplos, dividiendo la población de cada provincia (según estimación para el 2022) por la cantidad de representantes en el Congreso para esa misma jurisdicción. También armamos el equivalente para el total país y una lista con los valores provinciales.\n",
    "\n",
    "En este ejercicio les pedimos que construyan un for loop que itere sobre el diccionario definido y compare cada valor provincial contra el valor de proporcionalidad directa (la variable argentina). El loop debe imprimir una leyenda que indique si la provincia está sobrerepresentada, subrepresentada o con representación proporcional. Además, queremos que el mismo loop compare los valores de las provincias sobrerepresentadas y que guarde el valor de la provincia con mayor sobrerepresentación. Luego del loop impriman este valor así podemos ver que haya funcionado.\n",
    "\n",
    "Fuente para población: https://es.wikipedia.org/wiki/Demograf%C3%ADa_de_Argentina\n",
    "\n",
    "Fuente para representantes: https://es.wikipedia.org/wiki/C%C3%A1mara_de_Diputados_de_la_Naci%C3%B3n_Argentina"
   ]
  },
  {
   "cell_type": "code",
   "execution_count": 1,
   "metadata": {
    "id": "hd8Z5AHs-c9y"
   },
   "outputs": [],
   "source": [
    "# Valor de referencia: proporcionalidad:\n",
    "argentina = 46044703 / 257\n",
    "\n",
    "# Creamos variables para una selección de jurisdicciones:\n",
    "cordoba = 3978984 / 18\n",
    "santa_fe = 3556522 / 19\n",
    "mendoza = 2014533 / 10\n",
    "buenos_aires = 17569053 / 70\n",
    "entre_rios =  1426426 / 9\n",
    "santa_cruz = 333473 / 5\n",
    "formosa = 606041 / 5\n",
    "\n",
    "# Definimos el diccionario para iterar:\n",
    "dict_provincias = {\n",
    "    \"Córdoba\": cordoba,\n",
    "    \"Santa Fe\": santa_fe,\n",
    "    \"Mendoza\": mendoza,\n",
    "    \"Buenos Aires\": buenos_aires,\n",
    "    \"Entre Ríos\": entre_rios,\n",
    "    \"Santa Cruz\": santa_cruz,\n",
    "    \"Formosa\": formosa\n",
    "}"
   ]
  },
  {
   "cell_type": "code",
   "execution_count": 12,
   "metadata": {
    "id": "fsEHnxiY-c9y",
    "scrolled": false
   },
   "outputs": [
    {
     "name": "stdout",
     "output_type": "stream",
     "text": [
      "Córdoba está subrepresentada\n",
      "Santa Fe está subrepresentada\n",
      "Mendoza está subrepresentada\n",
      "Buenos Aires está subrepresentada\n",
      "Entre Ríos está sobrepresentada\n",
      "Santa Cruz está sobrepresentada\n",
      "Formosa está sobrepresentada\n",
      "La provincia con mayor sobrerepresentación es: Santa Cruz\n"
     ]
    }
   ],
   "source": [
    "# Primero definimos las variables de provincia mas sobre representada y una variable que diga mayor sobrerepresentada.\n",
    "# Debemos definir las variable como none y cero. Usamos none porque aún no tiene un valor específico y se utiliza el 0\n",
    "# porque es un punto de referencia.\n",
    "provincia_mas_sobrerepresentada = None\n",
    "mayor_sobrerepresentacion = 0\n",
    "\n",
    "# Hacemos la iteracción del diccionario, indicamos que provincia refiere al nombre y valor a la división que le sigue.\n",
    "for provincia, valor_provincial in dict_provincias.items():\n",
    "    # Calculamos la diferencia entre el valor provincial y argentina\n",
    "    diferencia = valor_provincial - argentina\n",
    "    \n",
    "    if diferencia < mayor_sobrerepresentacion or provincia_mas_sobrerepresentada is None:\n",
    "        # Si la diferencia es menor que la mayor sobrerepresentación actual o\n",
    "        # si provincia_mas_sobrerepresentada es None (primera iteración), actualizamos los valores\n",
    "        mayor_sobrerepresentacion = diferencia\n",
    "        provincia_mas_sobrerepresentada = provincia\n",
    "        \n",
    "    # Imprimimos como queda el estado de cada provincia, dependiendo de la diferencia que hay con la base (arg).\n",
    "    if diferencia > 0:\n",
    "        print(f\"{provincia} está subrepresentada\")\n",
    "    elif diferencia < 0:\n",
    "        print(f\"{provincia} está sobrepresentada\")\n",
    "    else:\n",
    "        print(f\"{provincia} tiene representación proporcional\")\n",
    "\n",
    "# Mostramos la provincia con mayor sobre representación (diferencia neg más grande). \n",
    "print(f\"La provincia con mayor sobrerepresentación es: {provincia_mas_sobrerepresentada}\")\n"
   ]
  },
  {
   "cell_type": "markdown",
   "metadata": {
    "id": "GokZe5tV-c9z"
   },
   "source": [
    "#### Ejercicio 9\n",
    "Si buscáramos minimizar la subrepresentación de la provincia de Buenos Aires, ¿cuántos representantes debería tener según el Censo 2022? Usemos el mismo criterio de sub/sobrerepresentacion que en el ejercicio anterior: población sobre cantidad de representantes.\n",
    "\n",
    "Para responder esta pregunta construyan un while loop que incremente de a uno la cantidad de representantes de la Provincia hasta minimizar la subrepresentación. En cada iteración impriman un cartel que diga: \"Se agregó un representante, el total ahora es X\" dónde X es el número de representantes simulado."
   ]
  },
  {
   "cell_type": "code",
   "execution_count": 14,
   "metadata": {
    "id": "x9DvuXa_-c9z"
   },
   "outputs": [],
   "source": [
    "# Estos son los valores de la provincia:\n",
    "representantes_pba = 70\n",
    "poblacion2010_pba = 17594428\n",
    "\n",
    "\n",
    "# Y el valor de referencia nacional:\n",
    "argentina = 46044703 / 257\n"
   ]
  },
  {
   "cell_type": "code",
   "execution_count": 15,
   "metadata": {},
   "outputs": [
    {
     "name": "stdout",
     "output_type": "stream",
     "text": [
      "Se agregó un representante, el total ahora es 71\n",
      "Se agregó un representante, el total ahora es 72\n",
      "Se agregó un representante, el total ahora es 73\n",
      "Se agregó un representante, el total ahora es 74\n",
      "Se agregó un representante, el total ahora es 75\n",
      "Se agregó un representante, el total ahora es 76\n",
      "Se agregó un representante, el total ahora es 77\n",
      "Se agregó un representante, el total ahora es 78\n",
      "Se agregó un representante, el total ahora es 79\n",
      "Se agregó un representante, el total ahora es 80\n",
      "Se agregó un representante, el total ahora es 81\n",
      "Se agregó un representante, el total ahora es 82\n",
      "Se agregó un representante, el total ahora es 83\n",
      "Se agregó un representante, el total ahora es 84\n",
      "Se agregó un representante, el total ahora es 85\n",
      "Se agregó un representante, el total ahora es 86\n",
      "Se agregó un representante, el total ahora es 87\n",
      "Se agregó un representante, el total ahora es 88\n",
      "Se agregó un representante, el total ahora es 89\n",
      "Se agregó un representante, el total ahora es 90\n",
      "Se agregó un representante, el total ahora es 91\n",
      "Se agregó un representante, el total ahora es 92\n",
      "Se agregó un representante, el total ahora es 93\n",
      "Se agregó un representante, el total ahora es 94\n",
      "Se agregó un representante, el total ahora es 95\n",
      "Se agregó un representante, el total ahora es 96\n",
      "Se agregó un representante, el total ahora es 97\n",
      "Se agregó un representante, el total ahora es 98\n",
      "Se agregó un representante, el total ahora es 99\n",
      "Se agregó un total de 29.\n"
     ]
    }
   ],
   "source": [
    "# Primero definimos la subrepresentacion:\n",
    "subrepre_pba = poblacion2010_pba / representantes_pba - argentina\n",
    "\n",
    "# Armamos un contador.\n",
    "numero_de_representantes = 0\n",
    "\n",
    "# Armamos el while loop para cada vez que la subrepresentación sea mayor a cero\n",
    "while subrepre_pba > 0:\n",
    "    # Cuando suceda, le agregamos un representante a la provincia.\n",
    "    representantes_pba += 1\n",
    "    # Volvemos a calcular la subrepresentación.\n",
    "    subrepre_pba = poblacion2010_pba / representantes_pba - argentina\n",
    "    # Agregamos un 1 al contador.\n",
    "    numero_de_representantes+= 1\n",
    "    # Imprimimos se agregó un representante, el total ahora es X\n",
    "    print(f\"Se agregó un representante, el total ahora es {representantes_pba}\")\n",
    "# Una vez que finalice el while loop, pedimos que imprima el total\n",
    "print(f\"Se agregó un total de {numero_de_representantes}.\")\n",
    "\n"
   ]
  },
  {
   "cell_type": "markdown",
   "metadata": {},
   "source": [
    "#### Ejercicio 10\n",
    "Construyan una función llamada suma que tome una cantidad variable de parámetros y devuelva el resultado de la suma."
   ]
  },
  {
   "cell_type": "code",
   "execution_count": 57,
   "metadata": {},
   "outputs": [
    {
     "name": "stdout",
     "output_type": "stream",
     "text": [
      "15\n"
     ]
    }
   ],
   "source": [
    "# Primero definimos la función suma:\n",
    "def suma (*cosas):\n",
    "    # Indicamos que arranque en cero\n",
    "    tot = 0\n",
    "    # Armamos un loop para que sume lo necesario y devuela el total\n",
    "    for numero in cosas:\n",
    "        tot += numero\n",
    "    return tot \n",
    "\n",
    "# Probamos la función:\n",
    "resultado = suma(1, 2, 3, 4, 5)\n",
    "print(resultado) "
   ]
  },
  {
   "cell_type": "code",
   "execution_count": null,
   "metadata": {},
   "outputs": [],
   "source": []
  }
 ],
 "metadata": {
  "anaconda-cloud": {},
  "colab": {
   "name": "TP1 - Parte 1.ipynb",
   "provenance": []
  },
  "kernelspec": {
   "display_name": "Python 3 (ipykernel)",
   "language": "python",
   "name": "python3"
  },
  "language_info": {
   "codemirror_mode": {
    "name": "ipython",
    "version": 3
   },
   "file_extension": ".py",
   "mimetype": "text/x-python",
   "name": "python",
   "nbconvert_exporter": "python",
   "pygments_lexer": "ipython3",
   "version": "3.11.5"
  }
 },
 "nbformat": 4,
 "nbformat_minor": 1
}
