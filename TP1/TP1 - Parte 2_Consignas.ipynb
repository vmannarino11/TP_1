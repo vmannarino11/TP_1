{
 "cells": [
  {
   "cell_type": "markdown",
   "metadata": {
    "collapsed": true,
    "id": "Dh8MkXaG-c9Y"
   },
   "source": [
    "# Curso de Big Data\n",
    "\n",
    "## Trabajo Práctico 1 - Parte 2"
   ]
  },
  {
   "cell_type": "markdown",
   "metadata": {},
   "source": [
    "### Alumnos:\n",
    "Apezteguia - Mannarino - Navajas Jauregui"
   ]
  },
  {
   "cell_type": "markdown",
   "metadata": {
    "id": "RhBlm6mZ-c9e"
   },
   "source": [
    "### Reglas de formato y presentación\n",
    "- El trabajo debe estar bien comentado (utilizando #) para que el código sea fácil de entender por sus compañeros y profesores.\n",
    "\n",
    "- El mismo debe ser completado en este Jupyter Notebook y entregado como tal, es decir en un archivo .ipynb\n"
   ]
  },
  {
   "cell_type": "markdown",
   "metadata": {
    "id": "ZEjGaa4U-c9g"
   },
   "source": [
    "### Fecha de entrega:\n",
    "Miércoles 4 de octubre a las 23:59hs"
   ]
  },
  {
   "cell_type": "markdown",
   "metadata": {
    "id": "N9TU2y7E-c9h"
   },
   "source": [
    "### Modalidad de entrega\n",
    "- Al finalizar el trabajo práctico deben hacer un último <i>commit</i> en su repositorio de GitHub con el mensaje “Entrega final del tp”. \n",
    "- Asegurense de haber creado una carpeta llamada TP1. Este Jupyter Notebook y el correspondiente al TP1 - Parte 1 deben estar dentro de esa carpeta.\n",
    "- También deben completar el link de su repositorio -para que pueda ser clonado y corregido- en la siguiente google sheet: https://docs.google.com/spreadsheets/d/11nJY1Frgla45sTgsPiSeOZM9iBM-XRWh/edit?usp=sharing&ouid=105815768529474116534&rtpof=true&sd=true\n",
    "- La última versión en el repositorio es la que será evaluada. Por lo que es importante que: \n",
    "    - No completen la google sheet hasta no haber terminado y estar seguros de que han hecho el <i>commit y push</i> a la versión final que quieren entregar. Debido a que se pueden tomar hasta 3 días de extensión a lo largo del curso, no se  corregirán sus tareas hasta no ver el link en la google sheet.\n",
    "    - No hagan nuevos <i>push</i> despues de haber entregado su versión final. Esto generaría confusión acerca de que versión es la que quieren que se les corrija. "
   ]
  },
  {
   "cell_type": "markdown",
   "metadata": {
    "id": "ZXbrPraa-c9i"
   },
   "source": [
    "#### Ejercicio 1\n",
    "Usando la API de Mercado Libre, obtener los ítems de una consulta de búsqueda. Pueden buscar cualquier producto de su interés."
   ]
  },
  {
   "cell_type": "code",
   "execution_count": 53,
   "metadata": {
    "scrolled": true
   },
   "outputs": [
    {
     "name": "stdout",
     "output_type": "stream",
     "text": [
      "Cantidad total de resultados: 49\n",
      "Precio del producto 1: 494999\n",
      "Precio del producto 2: 52783\n",
      "Precio del producto 3: 230722.85\n",
      "Precio del producto 4: 363488.05\n",
      "Precio del producto 5: 71030\n",
      "https://www.mercadolibre.com.ar/oster-perfect-brew-bvstem7300-acero-inoxidable-220v/p/MLA15157343\n"
     ]
    }
   ],
   "source": [
    "# Usamos la API de Mercado Libre, para interactuar con el sistema mediante código.\n",
    "# Haremos un GET request. Importamos la libreria requests\n",
    "import requests\n",
    "\n",
    "# Definimos el item que queremos buscar.\n",
    "buscar = \"Cafetera Oster con molinillo\"\n",
    "\n",
    "# Sabemos que tenemos 50 resultados por página.\n",
    "tamano_pagina = 50\n",
    "\n",
    "# Creamos una lista para almacenar todos los resultados.\n",
    "todos_los_resultados = []\n",
    "\n",
    "# Inicializamos la variable de página en 1.\n",
    "pagina = 1\n",
    "\n",
    "# Haremos un loop para que guarde los datos de cada página hasta que no haya más. \n",
    "while True:\n",
    "    # Utilizamos la URL propuesta por Mercado Libre, se encuentra en: https://developers.mercadolibre.com.ar/es_ar/items-y-busquedas\n",
    "    # Tomamos /sites/$SITE_ID/search?q=Motorola%20G6 - para obtener ítems de una consulta de búsqueda.\n",
    "    # Definimos la URL, le agregamos las llaves para completar. La primera corresponde a MLA - Argentina.\n",
    "    # La segunda llave corresponde al buscar que definimos antes y que reemplace los espacios por %20.\n",
    "    url = \"https://api.mercadolibre.com/sites/{}/search?q={}&offset={}&limit={}\".format(\"MLA\", buscar.replace(\" \", \"%20\"), (pagina - 1) * tamano_pagina, tamano_pagina)\n",
    "\n",
    "    # Utilizamos la librería \"requests\" con el método \"get\" para hacer la solicitud.\n",
    "    response = requests.get(url)\n",
    "\n",
    "    # Verificamos si la solicitud fue exitosa (código de respuesta 200)\n",
    "    if response.status_code == 200:\n",
    "        # Una vez que tenemos la búsqueda, la guardamos en un diccionario json.\n",
    "        data = response.json()\n",
    "\n",
    "        # Agregamos los resultados de esta página a la lista de todos los resultados\n",
    "        todos_los_resultados.extend(data['results'])\n",
    "\n",
    "        # Verificamos si hay más páginas disponibles\n",
    "        total_resultados = data['paging']['total']\n",
    "        resultados_pagina_actual = len(data['results'])\n",
    "        # Si el resultado de la pagina actual es menor al tamaño o si ya hemos recopilado todos los resultados disponibles, para.\n",
    "        if resultados_pagina_actual < tamano_pagina or len(todos_los_resultados) >= total_resultados:\n",
    "            # Solicitamos que pare el loop cuando no haya más páginas o haya capturado todos los resultados. \n",
    "            break  \n",
    "\n",
    "        # Incrementamos la variable de página para obtener la siguiente página\n",
    "        pagina += 1\n",
    "    else:\n",
    "        # Si no se cumple lo anterior:\n",
    "        print(\"Error en la solicitud\")\n",
    "        # terminar el loop si hay un error\n",
    "        break  \n",
    "\n",
    "# Imprimimos la cantidad total de resultados obtenidos\n",
    "print(\"Cantidad total de resultados:\", len(todos_los_resultados))\n",
    "\n",
    "# Puedes procesar o analizar los resultados como desees\n",
    "# Por ejemplo, puedes imprimir los precios de los productos\n",
    "# Imprimir los precios de los primeros 5 productos\n",
    "for i, producto in enumerate(todos_los_resultados[:5]):\n",
    "    if 'price' in producto:\n",
    "        print(f\"Precio del producto {i + 1}: {producto['price']}\")\n",
    "\n",
    "# Podesmos solicitar el link de algún producto, en este caso el primero (0)\n",
    "print(data['results'][0]['permalink'])        \n",
    "\n"
   ]
  },
  {
   "cell_type": "markdown",
   "metadata": {},
   "source": [
    "#### Ejercicio 2\n",
    "Guarden los precios de los ítems obtenidos en un dataframe y calculen el precio promedio, el mínimo y el máximo. "
   ]
  },
  {
   "cell_type": "code",
   "execution_count": 55,
   "metadata": {},
   "outputs": [
    {
     "name": "stdout",
     "output_type": "stream",
     "text": [
      "Precio Promedio: 319125.52\n",
      "Precio Mínimo: 6220.37\n",
      "Precio Máximo: 1289700.0\n"
     ]
    }
   ],
   "source": [
    "# Comenzamos instalanado el paquete panda e importando \n",
    "import pandas as pd\n",
    "\n",
    "# Creamos una lista de precios a partir de los datos.\n",
    "# producto['price'] if 'price' in producto else None = Verifica si la clave 'price' \n",
    "# está presente en el diccionario producto. Si está presente, toma el valor de 'price' y lo agrega a la lista precios\n",
    "precios = [producto['price'] if 'price' in producto else None for producto in data['results']]\n",
    "\n",
    "# Creamos un DataFrame con la lista de precios.\n",
    "dataframe = pd.DataFrame({'Precio': precios})\n",
    "\n",
    "# Calculamos el precio promedio, mínimo y máximo.\n",
    "precio_promedio = dataframe['Precio'].mean()\n",
    "precio_minimo = dataframe['Precio'].min()\n",
    "precio_maximo = dataframe['Precio'].max()\n",
    "\n",
    "# Solicitamos que los valores cuenten hasta con dos decimales. \n",
    "precio_promedio = round(precio_promedio, 2)\n",
    "precio_minimo = round(precio_minimo, 2)\n",
    "precio_maximo = round(precio_maximo, 2)\n",
    "\n",
    "# Imprimimos los resultados.\n",
    "print(f\"Precio Promedio: {precio_promedio}\")\n",
    "print(f\"Precio Mínimo: {precio_minimo}\")\n",
    "print(f\"Precio Máximo: {precio_maximo}\")"
   ]
  },
  {
   "cell_type": "markdown",
   "metadata": {},
   "source": [
    "#### Ejercicio 3\n",
    "Armen un histograma de los precios. ¿Ven algún <i>outlier<i>? \n",
    "Nota: pueden usar la librería de Matplotlib o la de Pandas."
   ]
  },
  {
   "cell_type": "code",
   "execution_count": 56,
   "metadata": {},
   "outputs": [
    {
     "data": {
      "image/png": "[encoded data removed]",
      "text/plain": [
       "<Figure size 640x480 with 1 Axes>"
      ]
     },
     "metadata": {},
     "output_type": "display_data"
    }
   ],
   "source": [
    "# Importamos la librería Matplotlib\n",
    "import matplotlib.pyplot as plt\n",
    "\n",
    "# Creamos un histograma de precios\n",
    "# Definimos los parámetros. Especificamos una distribución de 30 barras para notar faiclmente el outlier.\n",
    "# Utilizamos el color amarillo y negro para cubrir las barras.\n",
    "plt.hist(precios, bins=30, color='yellow', edgecolor='black')\n",
    "# En el eje X colocamos los precios.\n",
    "plt.xlabel('Precio')\n",
    "# Establecemos la cantidad en el Y.\n",
    "plt.ylabel('Cantidad')\n",
    "# Colocamos el título del histograma\n",
    "plt.title('Precios de cafeteras Oster')\n",
    "# Mostramos el histograma. \n",
    "plt.show()\n",
    "\n",
    "# Podemos visualizar 4 outliers que se ubican en la cola de la dsitribución. Estas cuatros osbervaciones tienen un valor superior\n",
    "# al millón de pesos, cuando el promedio se ubicaba en $319,125.52.\n"
   ]
  },
  {
   "cell_type": "code",
   "execution_count": null,
   "metadata": {},
   "outputs": [],
   "source": []
  }
 ],
 "metadata": {
  "anaconda-cloud": {},
  "colab": {
   "name": "TP1 - Parte 1.ipynb",
   "provenance": []
  },
  "kernelspec": {
   "display_name": "Python 3 (ipykernel)",
   "language": "python",
   "name": "python3"
  },
  "language_info": {
   "codemirror_mode": {
    "name": "ipython",
    "version": 3
   },
   "file_extension": ".py",
   "mimetype": "text/x-python",
   "name": "python",
   "nbconvert_exporter": "python",
   "pygments_lexer": "ipython3",
   "version": "3.11.5"
  }
 },
 "nbformat": 4,
 "nbformat_minor": 1
}
